{
  "nbformat": 4,
  "nbformat_minor": 0,
  "metadata": {
    "colab": {
      "name": "Lending_Case_Study_SubhamAndGaurav_C37.ipynb",
      "provenance": [],
      "collapsed_sections": [
        "gB8-Z6eQdbye",
        "Lpp1dWHBcwXD",
        "IHtTeYOm7fIn",
        "yugujeEwl9fX",
        "E4UQ1VuojzMm",
        "52bBSbce2g8q",
        "YaJjAouUi6qq",
        "n-wrCUw7mJHD",
        "4en_3INUyFFA"
      ]
    },
    "kernelspec": {
      "name": "python3",
      "display_name": "Python 3"
    },
    "language_info": {
      "name": "python"
    }
  },
  "cells": [
    {
      "cell_type": "markdown",
      "source": [
        "# import libraries"
      ],
      "metadata": {
        "id": "gB8-Z6eQdbye"
      }
    },
    {
      "cell_type": "code",
      "execution_count": 147,
      "metadata": {
        "id": "_LzFHqhLChVx"
      },
      "outputs": [],
      "source": [
        "import pandas as pd\n",
        "import numpy as np\n",
        "import matplotlib.pyplot as plt\n",
        "import seaborn as sns"
      ]
    },
    {
      "cell_type": "code",
      "source": [
        "import warnings\n",
        "warnings.filterwarnings(\"ignore\")"
      ],
      "metadata": {
        "id": "wDl0hX1_vNvs"
      },
      "execution_count": 148,
      "outputs": []
    },
    {
      "cell_type": "markdown",
      "source": [
        "# import data"
      ],
      "metadata": {
        "id": "Lpp1dWHBcwXD"
      }
    },
    {
      "cell_type": "code",
      "source": [
        "df = pd.read_csv(\"loan.csv\")"
      ],
      "metadata": {
        "id": "GxANL3m2DEUg"
      },
      "execution_count": 149,
      "outputs": []
    },
    {
      "cell_type": "code",
      "source": [
        "df.shape"
      ],
      "metadata": {
        "id": "1WiQnkcBD-1w",
        "colab": {
          "base_uri": "https://localhost:8080/"
        },
        "outputId": "1306404c-e0e0-4fb4-8229-0d0092f066ca"
      },
      "execution_count": 150,
      "outputs": [
        {
          "output_type": "execute_result",
          "data": {
            "text/plain": [
              "(39717, 111)"
            ]
          },
          "metadata": {},
          "execution_count": 150
        }
      ]
    },
    {
      "cell_type": "code",
      "source": [
        "total_no_of_rows= len(df)"
      ],
      "metadata": {
        "id": "5vXBE6Y3RTOK"
      },
      "execution_count": 151,
      "outputs": []
    },
    {
      "cell_type": "code",
      "source": [
        "df.info()"
      ],
      "metadata": {
        "id": "-MOehuhXFtW-",
        "colab": {
          "base_uri": "https://localhost:8080/"
        },
        "outputId": "7c47c69c-7e06-43f4-ac11-5288d69406b1"
      },
      "execution_count": 152,
      "outputs": [
        {
          "output_type": "stream",
          "name": "stdout",
          "text": [
            "<class 'pandas.core.frame.DataFrame'>\n",
            "RangeIndex: 39717 entries, 0 to 39716\n",
            "Columns: 111 entries, id to total_il_high_credit_limit\n",
            "dtypes: float64(74), int64(13), object(24)\n",
            "memory usage: 33.6+ MB\n"
          ]
        }
      ]
    },
    {
      "cell_type": "code",
      "source": [
        "df.columns"
      ],
      "metadata": {
        "colab": {
          "base_uri": "https://localhost:8080/"
        },
        "id": "PRZsQ7q4v47t",
        "outputId": "55837dcf-70b1-4531-8048-e122108013ba"
      },
      "execution_count": 153,
      "outputs": [
        {
          "output_type": "execute_result",
          "data": {
            "text/plain": [
              "Index(['id', 'member_id', 'loan_amnt', 'funded_amnt', 'funded_amnt_inv',\n",
              "       'term', 'int_rate', 'installment', 'grade', 'sub_grade',\n",
              "       ...\n",
              "       'num_tl_90g_dpd_24m', 'num_tl_op_past_12m', 'pct_tl_nvr_dlq',\n",
              "       'percent_bc_gt_75', 'pub_rec_bankruptcies', 'tax_liens',\n",
              "       'tot_hi_cred_lim', 'total_bal_ex_mort', 'total_bc_limit',\n",
              "       'total_il_high_credit_limit'],\n",
              "      dtype='object', length=111)"
            ]
          },
          "metadata": {},
          "execution_count": 153
        }
      ]
    },
    {
      "cell_type": "markdown",
      "source": [
        "# Data cleaning"
      ],
      "metadata": {
        "id": "IHtTeYOm7fIn"
      }
    },
    {
      "cell_type": "markdown",
      "source": [
        "## Removing duplicate rows"
      ],
      "metadata": {
        "id": "yugujeEwl9fX"
      }
    },
    {
      "cell_type": "markdown",
      "source": [
        "**Removing duplicates rows with same id**"
      ],
      "metadata": {
        "id": "-aEHG7EqmgyH"
      }
    },
    {
      "cell_type": "code",
      "source": [
        "len(df)"
      ],
      "metadata": {
        "colab": {
          "base_uri": "https://localhost:8080/"
        },
        "id": "3_deJbEl0Psl",
        "outputId": "3bd9ceb4-465e-47e6-c932-44c59eb2909a"
      },
      "execution_count": 157,
      "outputs": [
        {
          "output_type": "execute_result",
          "data": {
            "text/plain": [
              "39717"
            ]
          },
          "metadata": {},
          "execution_count": 157
        }
      ]
    },
    {
      "cell_type": "code",
      "source": [
        "df = df.drop_duplicates(subset=['id','member_id','url'], inplace=False)"
      ],
      "metadata": {
        "id": "_LaXz96hmfJc"
      },
      "execution_count": 158,
      "outputs": []
    },
    {
      "cell_type": "code",
      "source": [
        "len(df)"
      ],
      "metadata": {
        "colab": {
          "base_uri": "https://localhost:8080/"
        },
        "id": "tVFJ6e260SfF",
        "outputId": "7dea7657-a62b-4fa4-e03d-17f80d3b30f7"
      },
      "execution_count": 159,
      "outputs": [
        {
          "output_type": "execute_result",
          "data": {
            "text/plain": [
              "39717"
            ]
          },
          "metadata": {},
          "execution_count": 159
        }
      ]
    },
    {
      "cell_type": "markdown",
      "source": [
        "## Removing irrelevant rows and columns"
      ],
      "metadata": {
        "id": "E4UQ1VuojzMm"
      }
    },
    {
      "cell_type": "markdown",
      "source": [
        "**Filtering dataframe to consider only Full paid and Charged off**.\n",
        "`The loans which are currenyly active are not used in the process for EDA` "
      ],
      "metadata": {
        "id": "N5nND9ccd3M7"
      }
    },
    {
      "cell_type": "code",
      "source": [
        "df = df[ df[\"loan_status\"].isin([\"Charged Off\",\"Fully Paid\"]) ]"
      ],
      "metadata": {
        "id": "XK5cBbgHyB8I"
      },
      "execution_count": 160,
      "outputs": []
    },
    {
      "cell_type": "markdown",
      "source": [
        "**Removing columns with more than 85% null values**\n",
        "\n"
      ],
      "metadata": {
        "id": "oYwjVXhseTb4"
      }
    },
    {
      "cell_type": "code",
      "source": [
        "nullcountofallcolumns= df.isnull().sum()"
      ],
      "metadata": {
        "id": "NGsVpGj-QczF"
      },
      "execution_count": 161,
      "outputs": []
    },
    {
      "cell_type": "code",
      "source": [
        "nullcountofallcolumns.index"
      ],
      "metadata": {
        "id": "PppoETWWQp0D",
        "colab": {
          "base_uri": "https://localhost:8080/"
        },
        "outputId": "099d90b7-18b7-42ff-c436-a70eee32a5d7"
      },
      "execution_count": 162,
      "outputs": [
        {
          "output_type": "execute_result",
          "data": {
            "text/plain": [
              "Index(['id', 'member_id', 'loan_amnt', 'funded_amnt', 'funded_amnt_inv',\n",
              "       'term', 'int_rate', 'installment', 'grade', 'sub_grade',\n",
              "       ...\n",
              "       'num_tl_90g_dpd_24m', 'num_tl_op_past_12m', 'pct_tl_nvr_dlq',\n",
              "       'percent_bc_gt_75', 'pub_rec_bankruptcies', 'tax_liens',\n",
              "       'tot_hi_cred_lim', 'total_bal_ex_mort', 'total_bc_limit',\n",
              "       'total_il_high_credit_limit'],\n",
              "      dtype='object', length=111)"
            ]
          },
          "metadata": {},
          "execution_count": 162
        }
      ]
    },
    {
      "cell_type": "code",
      "source": [
        "nullcountofallcolumns.values"
      ],
      "metadata": {
        "id": "lKTvGoFdRGQ0",
        "colab": {
          "base_uri": "https://localhost:8080/"
        },
        "outputId": "1f72d373-de3e-4e29-e1e2-63939bc3c9a8"
      },
      "execution_count": 163,
      "outputs": [
        {
          "output_type": "execute_result",
          "data": {
            "text/plain": [
              "array([    0,     0,     0,     0,     0,     0,     0,     0,     0,\n",
              "           0,  2386,  1033,     0,     0,     0,     0,     0,     0,\n",
              "           0, 12527,     0,    11,     0,     0,     0,     0,     0,\n",
              "           0, 24905, 35837,     0,     0,     0,    50,     0,     0,\n",
              "           0,     0,     0,     0,     0,     0,     0,     0,     0,\n",
              "          71,     0, 38577,     2,    56, 38577,     0,     0, 38577,\n",
              "       38577, 38577,     0, 38577, 38577, 38577, 38577, 38577, 38577,\n",
              "       38577, 38577, 38577, 38577, 38577, 38577, 38577, 38577, 38577,\n",
              "       38577, 38577, 38577, 38577, 38577, 38577,    56,     0, 38577,\n",
              "       38577, 38577, 38577, 38577, 38577, 38577, 38577, 38577, 38577,\n",
              "       38577, 38577, 38577, 38577, 38577, 38577, 38577, 38577, 38577,\n",
              "       38577, 38577, 38577, 38577, 38577, 38577,   697,    39, 38577,\n",
              "       38577, 38577, 38577])"
            ]
          },
          "metadata": {},
          "execution_count": 163
        }
      ]
    },
    {
      "cell_type": "code",
      "source": [
        "nullratioofallcolumns = nullcountofallcolumns.values / total_no_of_rows"
      ],
      "metadata": {
        "id": "HyYf1xhwRJ6a"
      },
      "execution_count": 164,
      "outputs": []
    },
    {
      "cell_type": "code",
      "source": [
        "nullratioofallcolumns"
      ],
      "metadata": {
        "id": "45iBfZS7Rl1t",
        "colab": {
          "base_uri": "https://localhost:8080/"
        },
        "outputId": "9aa60ed8-7477-45a3-85f9-e33ba2cd1726"
      },
      "execution_count": 165,
      "outputs": [
        {
          "output_type": "execute_result",
          "data": {
            "text/plain": [
              "array([0.00000000e+00, 0.00000000e+00, 0.00000000e+00, 0.00000000e+00,\n",
              "       0.00000000e+00, 0.00000000e+00, 0.00000000e+00, 0.00000000e+00,\n",
              "       0.00000000e+00, 0.00000000e+00, 6.00750308e-02, 2.60090138e-02,\n",
              "       0.00000000e+00, 0.00000000e+00, 0.00000000e+00, 0.00000000e+00,\n",
              "       0.00000000e+00, 0.00000000e+00, 0.00000000e+00, 3.15406501e-01,\n",
              "       0.00000000e+00, 2.76959488e-04, 0.00000000e+00, 0.00000000e+00,\n",
              "       0.00000000e+00, 0.00000000e+00, 0.00000000e+00, 0.00000000e+00,\n",
              "       6.27061460e-01, 9.02308835e-01, 0.00000000e+00, 0.00000000e+00,\n",
              "       0.00000000e+00, 1.25890677e-03, 0.00000000e+00, 0.00000000e+00,\n",
              "       0.00000000e+00, 0.00000000e+00, 0.00000000e+00, 0.00000000e+00,\n",
              "       0.00000000e+00, 0.00000000e+00, 0.00000000e+00, 0.00000000e+00,\n",
              "       0.00000000e+00, 1.78764761e-03, 0.00000000e+00, 9.71296926e-01,\n",
              "       5.03562706e-05, 1.40997558e-03, 9.71296926e-01, 0.00000000e+00,\n",
              "       0.00000000e+00, 9.71296926e-01, 9.71296926e-01, 9.71296926e-01,\n",
              "       0.00000000e+00, 9.71296926e-01, 9.71296926e-01, 9.71296926e-01,\n",
              "       9.71296926e-01, 9.71296926e-01, 9.71296926e-01, 9.71296926e-01,\n",
              "       9.71296926e-01, 9.71296926e-01, 9.71296926e-01, 9.71296926e-01,\n",
              "       9.71296926e-01, 9.71296926e-01, 9.71296926e-01, 9.71296926e-01,\n",
              "       9.71296926e-01, 9.71296926e-01, 9.71296926e-01, 9.71296926e-01,\n",
              "       9.71296926e-01, 9.71296926e-01, 1.40997558e-03, 0.00000000e+00,\n",
              "       9.71296926e-01, 9.71296926e-01, 9.71296926e-01, 9.71296926e-01,\n",
              "       9.71296926e-01, 9.71296926e-01, 9.71296926e-01, 9.71296926e-01,\n",
              "       9.71296926e-01, 9.71296926e-01, 9.71296926e-01, 9.71296926e-01,\n",
              "       9.71296926e-01, 9.71296926e-01, 9.71296926e-01, 9.71296926e-01,\n",
              "       9.71296926e-01, 9.71296926e-01, 9.71296926e-01, 9.71296926e-01,\n",
              "       9.71296926e-01, 9.71296926e-01, 9.71296926e-01, 9.71296926e-01,\n",
              "       9.71296926e-01, 1.75491603e-02, 9.81947277e-04, 9.71296926e-01,\n",
              "       9.71296926e-01, 9.71296926e-01, 9.71296926e-01])"
            ]
          },
          "metadata": {},
          "execution_count": 165
        }
      ]
    },
    {
      "cell_type": "code",
      "source": [
        "nullratioofallcolumns <= 0.85"
      ],
      "metadata": {
        "id": "8LHNYezpRnPx",
        "colab": {
          "base_uri": "https://localhost:8080/"
        },
        "outputId": "aeb5727e-d7bf-47ca-baef-64d69e7a557d"
      },
      "execution_count": 166,
      "outputs": [
        {
          "output_type": "execute_result",
          "data": {
            "text/plain": [
              "array([ True,  True,  True,  True,  True,  True,  True,  True,  True,\n",
              "        True,  True,  True,  True,  True,  True,  True,  True,  True,\n",
              "        True,  True,  True,  True,  True,  True,  True,  True,  True,\n",
              "        True,  True, False,  True,  True,  True,  True,  True,  True,\n",
              "        True,  True,  True,  True,  True,  True,  True,  True,  True,\n",
              "        True,  True, False,  True,  True, False,  True,  True, False,\n",
              "       False, False,  True, False, False, False, False, False, False,\n",
              "       False, False, False, False, False, False, False, False, False,\n",
              "       False, False, False, False, False, False,  True,  True, False,\n",
              "       False, False, False, False, False, False, False, False, False,\n",
              "       False, False, False, False, False, False, False, False, False,\n",
              "       False, False, False, False, False, False,  True,  True, False,\n",
              "       False, False, False])"
            ]
          },
          "metadata": {},
          "execution_count": 166
        }
      ]
    },
    {
      "cell_type": "code",
      "source": [
        "df = df.iloc[:,nullratioofallcolumns <= 0.85]"
      ],
      "metadata": {
        "id": "8tpd4TO0RxuJ"
      },
      "execution_count": 167,
      "outputs": []
    },
    {
      "cell_type": "markdown",
      "source": [
        "**Remaining data size**"
      ],
      "metadata": {
        "id": "-2lZJ6FF1STB"
      }
    },
    {
      "cell_type": "code",
      "source": [
        "df.shape"
      ],
      "metadata": {
        "id": "785I11e5SBmz",
        "colab": {
          "base_uri": "https://localhost:8080/"
        },
        "outputId": "23e707d3-0314-4362-e6fc-77fee12e8036"
      },
      "execution_count": 169,
      "outputs": [
        {
          "output_type": "execute_result",
          "data": {
            "text/plain": [
              "(38577, 55)"
            ]
          },
          "metadata": {},
          "execution_count": 169
        }
      ]
    },
    {
      "cell_type": "markdown",
      "source": [
        "**Removing columns who only carry 1 unique value**\n",
        "`These columns are redundant for our analysis`\n",
        "Ex:- Some columns carry only 0"
      ],
      "metadata": {
        "id": "XpoQ0IdDewyR"
      }
    },
    {
      "cell_type": "code",
      "source": [
        "for i in df.columns:\n",
        "  if(df[ df[i].notnull() ][i].unique().size==1):\n",
        "    df=df.drop(i,axis=1)"
      ],
      "metadata": {
        "id": "oELo4LsSZjjw"
      },
      "execution_count": 170,
      "outputs": []
    },
    {
      "cell_type": "code",
      "source": [
        "df.shape"
      ],
      "metadata": {
        "id": "LB3prdc3ZxTo",
        "colab": {
          "base_uri": "https://localhost:8080/"
        },
        "outputId": "9755f3d2-5260-4cd2-d30c-3f52ea8fe0f7"
      },
      "execution_count": 171,
      "outputs": [
        {
          "output_type": "execute_result",
          "data": {
            "text/plain": [
              "(38577, 44)"
            ]
          },
          "metadata": {},
          "execution_count": 171
        }
      ]
    },
    {
      "cell_type": "code",
      "source": [
        "df.columns"
      ],
      "metadata": {
        "id": "ZKvL5wi0aWVR",
        "colab": {
          "base_uri": "https://localhost:8080/"
        },
        "outputId": "4af38bf5-effa-4b80-8653-67c3963bc5b2"
      },
      "execution_count": 172,
      "outputs": [
        {
          "output_type": "execute_result",
          "data": {
            "text/plain": [
              "Index(['id', 'member_id', 'loan_amnt', 'funded_amnt', 'funded_amnt_inv',\n",
              "       'term', 'int_rate', 'installment', 'grade', 'sub_grade', 'emp_title',\n",
              "       'emp_length', 'home_ownership', 'annual_inc', 'verification_status',\n",
              "       'issue_d', 'loan_status', 'url', 'desc', 'purpose', 'title', 'zip_code',\n",
              "       'addr_state', 'dti', 'delinq_2yrs', 'earliest_cr_line',\n",
              "       'inq_last_6mths', 'mths_since_last_delinq', 'open_acc', 'pub_rec',\n",
              "       'revol_bal', 'revol_util', 'total_acc', 'total_pymnt',\n",
              "       'total_pymnt_inv', 'total_rec_prncp', 'total_rec_int',\n",
              "       'total_rec_late_fee', 'recoveries', 'collection_recovery_fee',\n",
              "       'last_pymnt_d', 'last_pymnt_amnt', 'last_credit_pull_d',\n",
              "       'pub_rec_bankruptcies'],\n",
              "      dtype='object')"
            ]
          },
          "metadata": {},
          "execution_count": 172
        }
      ]
    },
    {
      "cell_type": "markdown",
      "source": [
        "**Removing the unnecessary columns who are neither buyer behaviour nor loan chracterstics**\n",
        "`For Exam:- Loan Desciption is carrying english sentence which cant be analysed for EDA`"
      ],
      "metadata": {
        "id": "5keu5DrDfyJ-"
      }
    },
    {
      "cell_type": "code",
      "source": [
        "unnessary_columns= [\"emp_title\",\"url\",\"desc\",\"title\" , \"id\",\"member_id\",\"loan_amnt\", \"funded_amnt\",\n",
        "     \"total_pymnt_inv\", \"collection_recovery_fee\"]"
      ],
      "metadata": {
        "id": "9Zlf-cEFbZDA"
      },
      "execution_count": 174,
      "outputs": []
    },
    {
      "cell_type": "code",
      "source": [
        "df = df.drop(unnessary_columns,axis=1)"
      ],
      "metadata": {
        "id": "al6odITfn91A"
      },
      "execution_count": 175,
      "outputs": []
    },
    {
      "cell_type": "code",
      "source": [
        "df.shape"
      ],
      "metadata": {
        "id": "8yd-WA78oBek",
        "colab": {
          "base_uri": "https://localhost:8080/"
        },
        "outputId": "4bcc451d-48ff-43c8-be5c-847ed49805c1"
      },
      "execution_count": 176,
      "outputs": [
        {
          "output_type": "execute_result",
          "data": {
            "text/plain": [
              "(38577, 34)"
            ]
          },
          "metadata": {},
          "execution_count": 176
        }
      ]
    },
    {
      "cell_type": "code",
      "source": [
        "df.columns"
      ],
      "metadata": {
        "id": "6F4jbyTYqtqD",
        "colab": {
          "base_uri": "https://localhost:8080/"
        },
        "outputId": "9915aa5b-b878-46f7-fe38-ca234f146ef8"
      },
      "execution_count": 177,
      "outputs": [
        {
          "output_type": "execute_result",
          "data": {
            "text/plain": [
              "Index(['funded_amnt_inv', 'term', 'int_rate', 'installment', 'grade',\n",
              "       'sub_grade', 'emp_length', 'home_ownership', 'annual_inc',\n",
              "       'verification_status', 'issue_d', 'loan_status', 'purpose', 'zip_code',\n",
              "       'addr_state', 'dti', 'delinq_2yrs', 'earliest_cr_line',\n",
              "       'inq_last_6mths', 'mths_since_last_delinq', 'open_acc', 'pub_rec',\n",
              "       'revol_bal', 'revol_util', 'total_acc', 'total_pymnt',\n",
              "       'total_rec_prncp', 'total_rec_int', 'total_rec_late_fee', 'recoveries',\n",
              "       'last_pymnt_d', 'last_pymnt_amnt', 'last_credit_pull_d',\n",
              "       'pub_rec_bankruptcies'],\n",
              "      dtype='object')"
            ]
          },
          "metadata": {},
          "execution_count": 177
        }
      ]
    },
    {
      "cell_type": "code",
      "source": [
        ""
      ],
      "metadata": {
        "id": "E7bXDsZOBl38"
      },
      "execution_count": 72,
      "outputs": []
    },
    {
      "cell_type": "markdown",
      "source": [
        "## Correcting data types of columns"
      ],
      "metadata": {
        "id": "52bBSbce2g8q"
      }
    },
    {
      "cell_type": "markdown",
      "source": [
        "**Printing first 5 values to have an idea of the data for each column**"
      ],
      "metadata": {
        "id": "aayBm2F_gQEK"
      }
    },
    {
      "cell_type": "code",
      "source": [
        "df.head()"
      ],
      "metadata": {
        "id": "k35T1kvp2fmq",
        "colab": {
          "base_uri": "https://localhost:8080/",
          "height": 386
        },
        "outputId": "34ac492d-288e-4557-9882-0e292ae47f0f"
      },
      "execution_count": 178,
      "outputs": [
        {
          "output_type": "execute_result",
          "data": {
            "text/html": [
              "\n",
              "  <div id=\"df-95de816e-673c-46a0-aa47-40148e07353f\">\n",
              "    <div class=\"colab-df-container\">\n",
              "      <div>\n",
              "<style scoped>\n",
              "    .dataframe tbody tr th:only-of-type {\n",
              "        vertical-align: middle;\n",
              "    }\n",
              "\n",
              "    .dataframe tbody tr th {\n",
              "        vertical-align: top;\n",
              "    }\n",
              "\n",
              "    .dataframe thead th {\n",
              "        text-align: right;\n",
              "    }\n",
              "</style>\n",
              "<table border=\"1\" class=\"dataframe\">\n",
              "  <thead>\n",
              "    <tr style=\"text-align: right;\">\n",
              "      <th></th>\n",
              "      <th>funded_amnt_inv</th>\n",
              "      <th>term</th>\n",
              "      <th>int_rate</th>\n",
              "      <th>installment</th>\n",
              "      <th>grade</th>\n",
              "      <th>sub_grade</th>\n",
              "      <th>emp_length</th>\n",
              "      <th>home_ownership</th>\n",
              "      <th>annual_inc</th>\n",
              "      <th>verification_status</th>\n",
              "      <th>...</th>\n",
              "      <th>total_acc</th>\n",
              "      <th>total_pymnt</th>\n",
              "      <th>total_rec_prncp</th>\n",
              "      <th>total_rec_int</th>\n",
              "      <th>total_rec_late_fee</th>\n",
              "      <th>recoveries</th>\n",
              "      <th>last_pymnt_d</th>\n",
              "      <th>last_pymnt_amnt</th>\n",
              "      <th>last_credit_pull_d</th>\n",
              "      <th>pub_rec_bankruptcies</th>\n",
              "    </tr>\n",
              "  </thead>\n",
              "  <tbody>\n",
              "    <tr>\n",
              "      <th>0</th>\n",
              "      <td>4975.0</td>\n",
              "      <td>36 months</td>\n",
              "      <td>10.65%</td>\n",
              "      <td>162.87</td>\n",
              "      <td>B</td>\n",
              "      <td>B2</td>\n",
              "      <td>10+ years</td>\n",
              "      <td>RENT</td>\n",
              "      <td>24000.0</td>\n",
              "      <td>Verified</td>\n",
              "      <td>...</td>\n",
              "      <td>9</td>\n",
              "      <td>5863.155187</td>\n",
              "      <td>5000.00</td>\n",
              "      <td>863.16</td>\n",
              "      <td>0.00</td>\n",
              "      <td>0.00</td>\n",
              "      <td>Jan-15</td>\n",
              "      <td>171.62</td>\n",
              "      <td>May-16</td>\n",
              "      <td>0.0</td>\n",
              "    </tr>\n",
              "    <tr>\n",
              "      <th>1</th>\n",
              "      <td>2500.0</td>\n",
              "      <td>60 months</td>\n",
              "      <td>15.27%</td>\n",
              "      <td>59.83</td>\n",
              "      <td>C</td>\n",
              "      <td>C4</td>\n",
              "      <td>&lt; 1 year</td>\n",
              "      <td>RENT</td>\n",
              "      <td>30000.0</td>\n",
              "      <td>Source Verified</td>\n",
              "      <td>...</td>\n",
              "      <td>4</td>\n",
              "      <td>1008.710000</td>\n",
              "      <td>456.46</td>\n",
              "      <td>435.17</td>\n",
              "      <td>0.00</td>\n",
              "      <td>117.08</td>\n",
              "      <td>Apr-13</td>\n",
              "      <td>119.66</td>\n",
              "      <td>Sep-13</td>\n",
              "      <td>0.0</td>\n",
              "    </tr>\n",
              "    <tr>\n",
              "      <th>2</th>\n",
              "      <td>2400.0</td>\n",
              "      <td>36 months</td>\n",
              "      <td>15.96%</td>\n",
              "      <td>84.33</td>\n",
              "      <td>C</td>\n",
              "      <td>C5</td>\n",
              "      <td>10+ years</td>\n",
              "      <td>RENT</td>\n",
              "      <td>12252.0</td>\n",
              "      <td>Not Verified</td>\n",
              "      <td>...</td>\n",
              "      <td>10</td>\n",
              "      <td>3005.666844</td>\n",
              "      <td>2400.00</td>\n",
              "      <td>605.67</td>\n",
              "      <td>0.00</td>\n",
              "      <td>0.00</td>\n",
              "      <td>Jun-14</td>\n",
              "      <td>649.91</td>\n",
              "      <td>May-16</td>\n",
              "      <td>0.0</td>\n",
              "    </tr>\n",
              "    <tr>\n",
              "      <th>3</th>\n",
              "      <td>10000.0</td>\n",
              "      <td>36 months</td>\n",
              "      <td>13.49%</td>\n",
              "      <td>339.31</td>\n",
              "      <td>C</td>\n",
              "      <td>C1</td>\n",
              "      <td>10+ years</td>\n",
              "      <td>RENT</td>\n",
              "      <td>49200.0</td>\n",
              "      <td>Source Verified</td>\n",
              "      <td>...</td>\n",
              "      <td>37</td>\n",
              "      <td>12231.890000</td>\n",
              "      <td>10000.00</td>\n",
              "      <td>2214.92</td>\n",
              "      <td>16.97</td>\n",
              "      <td>0.00</td>\n",
              "      <td>Jan-15</td>\n",
              "      <td>357.48</td>\n",
              "      <td>Apr-16</td>\n",
              "      <td>0.0</td>\n",
              "    </tr>\n",
              "    <tr>\n",
              "      <th>5</th>\n",
              "      <td>5000.0</td>\n",
              "      <td>36 months</td>\n",
              "      <td>7.90%</td>\n",
              "      <td>156.46</td>\n",
              "      <td>A</td>\n",
              "      <td>A4</td>\n",
              "      <td>3 years</td>\n",
              "      <td>RENT</td>\n",
              "      <td>36000.0</td>\n",
              "      <td>Source Verified</td>\n",
              "      <td>...</td>\n",
              "      <td>12</td>\n",
              "      <td>5632.210000</td>\n",
              "      <td>5000.00</td>\n",
              "      <td>632.21</td>\n",
              "      <td>0.00</td>\n",
              "      <td>0.00</td>\n",
              "      <td>Jan-15</td>\n",
              "      <td>161.03</td>\n",
              "      <td>Jan-16</td>\n",
              "      <td>0.0</td>\n",
              "    </tr>\n",
              "  </tbody>\n",
              "</table>\n",
              "<p>5 rows × 34 columns</p>\n",
              "</div>\n",
              "      <button class=\"colab-df-convert\" onclick=\"convertToInteractive('df-95de816e-673c-46a0-aa47-40148e07353f')\"\n",
              "              title=\"Convert this dataframe to an interactive table.\"\n",
              "              style=\"display:none;\">\n",
              "        \n",
              "  <svg xmlns=\"http://www.w3.org/2000/svg\" height=\"24px\"viewBox=\"0 0 24 24\"\n",
              "       width=\"24px\">\n",
              "    <path d=\"M0 0h24v24H0V0z\" fill=\"none\"/>\n",
              "    <path d=\"M18.56 5.44l.94 2.06.94-2.06 2.06-.94-2.06-.94-.94-2.06-.94 2.06-2.06.94zm-11 1L8.5 8.5l.94-2.06 2.06-.94-2.06-.94L8.5 2.5l-.94 2.06-2.06.94zm10 10l.94 2.06.94-2.06 2.06-.94-2.06-.94-.94-2.06-.94 2.06-2.06.94z\"/><path d=\"M17.41 7.96l-1.37-1.37c-.4-.4-.92-.59-1.43-.59-.52 0-1.04.2-1.43.59L10.3 9.45l-7.72 7.72c-.78.78-.78 2.05 0 2.83L4 21.41c.39.39.9.59 1.41.59.51 0 1.02-.2 1.41-.59l7.78-7.78 2.81-2.81c.8-.78.8-2.07 0-2.86zM5.41 20L4 18.59l7.72-7.72 1.47 1.35L5.41 20z\"/>\n",
              "  </svg>\n",
              "      </button>\n",
              "      \n",
              "  <style>\n",
              "    .colab-df-container {\n",
              "      display:flex;\n",
              "      flex-wrap:wrap;\n",
              "      gap: 12px;\n",
              "    }\n",
              "\n",
              "    .colab-df-convert {\n",
              "      background-color: #E8F0FE;\n",
              "      border: none;\n",
              "      border-radius: 50%;\n",
              "      cursor: pointer;\n",
              "      display: none;\n",
              "      fill: #1967D2;\n",
              "      height: 32px;\n",
              "      padding: 0 0 0 0;\n",
              "      width: 32px;\n",
              "    }\n",
              "\n",
              "    .colab-df-convert:hover {\n",
              "      background-color: #E2EBFA;\n",
              "      box-shadow: 0px 1px 2px rgba(60, 64, 67, 0.3), 0px 1px 3px 1px rgba(60, 64, 67, 0.15);\n",
              "      fill: #174EA6;\n",
              "    }\n",
              "\n",
              "    [theme=dark] .colab-df-convert {\n",
              "      background-color: #3B4455;\n",
              "      fill: #D2E3FC;\n",
              "    }\n",
              "\n",
              "    [theme=dark] .colab-df-convert:hover {\n",
              "      background-color: #434B5C;\n",
              "      box-shadow: 0px 1px 3px 1px rgba(0, 0, 0, 0.15);\n",
              "      filter: drop-shadow(0px 1px 2px rgba(0, 0, 0, 0.3));\n",
              "      fill: #FFFFFF;\n",
              "    }\n",
              "  </style>\n",
              "\n",
              "      <script>\n",
              "        const buttonEl =\n",
              "          document.querySelector('#df-95de816e-673c-46a0-aa47-40148e07353f button.colab-df-convert');\n",
              "        buttonEl.style.display =\n",
              "          google.colab.kernel.accessAllowed ? 'block' : 'none';\n",
              "\n",
              "        async function convertToInteractive(key) {\n",
              "          const element = document.querySelector('#df-95de816e-673c-46a0-aa47-40148e07353f');\n",
              "          const dataTable =\n",
              "            await google.colab.kernel.invokeFunction('convertToInteractive',\n",
              "                                                     [key], {});\n",
              "          if (!dataTable) return;\n",
              "\n",
              "          const docLinkHtml = 'Like what you see? Visit the ' +\n",
              "            '<a target=\"_blank\" href=https://colab.research.google.com/notebooks/data_table.ipynb>data table notebook</a>'\n",
              "            + ' to learn more about interactive tables.';\n",
              "          element.innerHTML = '';\n",
              "          dataTable['output_type'] = 'display_data';\n",
              "          await google.colab.output.renderOutput(dataTable, element);\n",
              "          const docLink = document.createElement('div');\n",
              "          docLink.innerHTML = docLinkHtml;\n",
              "          element.appendChild(docLink);\n",
              "        }\n",
              "      </script>\n",
              "    </div>\n",
              "  </div>\n",
              "  "
            ],
            "text/plain": [
              "   funded_amnt_inv        term int_rate  installment grade sub_grade  \\\n",
              "0           4975.0   36 months   10.65%       162.87     B        B2   \n",
              "1           2500.0   60 months   15.27%        59.83     C        C4   \n",
              "2           2400.0   36 months   15.96%        84.33     C        C5   \n",
              "3          10000.0   36 months   13.49%       339.31     C        C1   \n",
              "5           5000.0   36 months    7.90%       156.46     A        A4   \n",
              "\n",
              "  emp_length home_ownership  annual_inc verification_status  ... total_acc  \\\n",
              "0  10+ years           RENT     24000.0            Verified  ...         9   \n",
              "1   < 1 year           RENT     30000.0     Source Verified  ...         4   \n",
              "2  10+ years           RENT     12252.0        Not Verified  ...        10   \n",
              "3  10+ years           RENT     49200.0     Source Verified  ...        37   \n",
              "5    3 years           RENT     36000.0     Source Verified  ...        12   \n",
              "\n",
              "    total_pymnt total_rec_prncp total_rec_int total_rec_late_fee  recoveries  \\\n",
              "0   5863.155187         5000.00        863.16               0.00        0.00   \n",
              "1   1008.710000          456.46        435.17               0.00      117.08   \n",
              "2   3005.666844         2400.00        605.67               0.00        0.00   \n",
              "3  12231.890000        10000.00       2214.92              16.97        0.00   \n",
              "5   5632.210000         5000.00        632.21               0.00        0.00   \n",
              "\n",
              "   last_pymnt_d last_pymnt_amnt  last_credit_pull_d  pub_rec_bankruptcies  \n",
              "0        Jan-15          171.62              May-16                   0.0  \n",
              "1        Apr-13          119.66              Sep-13                   0.0  \n",
              "2        Jun-14          649.91              May-16                   0.0  \n",
              "3        Jan-15          357.48              Apr-16                   0.0  \n",
              "5        Jan-15          161.03              Jan-16                   0.0  \n",
              "\n",
              "[5 rows x 34 columns]"
            ]
          },
          "metadata": {},
          "execution_count": 178
        }
      ]
    },
    {
      "cell_type": "markdown",
      "source": [
        "**checking datatype for each column**"
      ],
      "metadata": {
        "id": "VTNClKJGhUih"
      }
    },
    {
      "cell_type": "code",
      "source": [
        "df.dtypes"
      ],
      "metadata": {
        "colab": {
          "base_uri": "https://localhost:8080/"
        },
        "id": "WOLXn06OsGAv",
        "outputId": "ae299e90-645e-4802-e862-6d3be87b7d27"
      },
      "execution_count": 179,
      "outputs": [
        {
          "output_type": "execute_result",
          "data": {
            "text/plain": [
              "funded_amnt_inv           float64\n",
              "term                       object\n",
              "int_rate                   object\n",
              "installment               float64\n",
              "grade                      object\n",
              "sub_grade                  object\n",
              "emp_length                 object\n",
              "home_ownership             object\n",
              "annual_inc                float64\n",
              "verification_status        object\n",
              "issue_d                    object\n",
              "loan_status                object\n",
              "purpose                    object\n",
              "zip_code                   object\n",
              "addr_state                 object\n",
              "dti                       float64\n",
              "delinq_2yrs                 int64\n",
              "earliest_cr_line           object\n",
              "inq_last_6mths              int64\n",
              "mths_since_last_delinq    float64\n",
              "open_acc                    int64\n",
              "pub_rec                     int64\n",
              "revol_bal                   int64\n",
              "revol_util                 object\n",
              "total_acc                   int64\n",
              "total_pymnt               float64\n",
              "total_rec_prncp           float64\n",
              "total_rec_int             float64\n",
              "total_rec_late_fee        float64\n",
              "recoveries                float64\n",
              "last_pymnt_d               object\n",
              "last_pymnt_amnt           float64\n",
              "last_credit_pull_d         object\n",
              "pub_rec_bankruptcies      float64\n",
              "dtype: object"
            ]
          },
          "metadata": {},
          "execution_count": 179
        }
      ]
    },
    {
      "cell_type": "code",
      "source": [
        ""
      ],
      "metadata": {
        "id": "PaAi9LihhdZ9"
      },
      "execution_count": 74,
      "outputs": []
    },
    {
      "cell_type": "markdown",
      "source": [
        "**Taking only numerical part from term column and saving it in integer datatype**"
      ],
      "metadata": {
        "id": "6N77duqOhd8x"
      }
    },
    {
      "cell_type": "code",
      "source": [
        "df.term = df[\"term\"].apply(lambda x : int(x[0:3]))"
      ],
      "metadata": {
        "id": "As24Cqn1hd8y"
      },
      "execution_count": 180,
      "outputs": []
    },
    {
      "cell_type": "markdown",
      "source": [
        "**removing chracters from revol_util and convert it into a float value**"
      ],
      "metadata": {
        "id": "FFqCDIBShtz_"
      }
    },
    {
      "cell_type": "code",
      "source": [
        "df['revol_util'] = (df['revol_util'].str.strip('years +<>%')).astype(np.float64)"
      ],
      "metadata": {
        "id": "-MD0Oohlhd8z"
      },
      "execution_count": 181,
      "outputs": []
    },
    {
      "cell_type": "markdown",
      "source": [
        "**removing chracters from emp_length and convert it into a float value**"
      ],
      "metadata": {
        "id": "ldbLZnHsiIH-"
      }
    },
    {
      "cell_type": "code",
      "source": [
        "df['emp_length'] = df['emp_length'].str.strip('years +<>')"
      ],
      "metadata": {
        "id": "ShhI4Uf3fXGC"
      },
      "execution_count": 182,
      "outputs": []
    },
    {
      "cell_type": "markdown",
      "source": [
        "**removing % from end of int_rate and convert it into a float value**"
      ],
      "metadata": {
        "id": "n_MYM_i4iTiE"
      }
    },
    {
      "cell_type": "code",
      "source": [
        "df.int_rate = df[\"int_rate\"].apply(lambda x : float(x[:-1]))"
      ],
      "metadata": {
        "id": "UFqLXtap3EhX"
      },
      "execution_count": 183,
      "outputs": []
    },
    {
      "cell_type": "markdown",
      "source": [
        "## Derive new columns"
      ],
      "metadata": {
        "id": "YaJjAouUi6qq"
      }
    },
    {
      "cell_type": "markdown",
      "source": [
        "**Deriving issue_month and issue_year from issue_date**"
      ],
      "metadata": {
        "id": "Um82nhlnigvR"
      }
    },
    {
      "cell_type": "code",
      "source": [
        "df.issue_d.value_counts()"
      ],
      "metadata": {
        "id": "CKDs2yjj4GuI",
        "colab": {
          "base_uri": "https://localhost:8080/"
        },
        "outputId": "0264129a-c392-49d8-db3b-374753ef58ea"
      },
      "execution_count": 184,
      "outputs": [
        {
          "output_type": "execute_result",
          "data": {
            "text/plain": [
              "Nov-11    2062\n",
              "Dec-11    2042\n",
              "Oct-11    1941\n",
              "Sep-11    1913\n",
              "Aug-11    1798\n",
              "Jul-11    1745\n",
              "Jun-11    1728\n",
              "May-11    1609\n",
              "Apr-11    1559\n",
              "Mar-11    1442\n",
              "Jan-11    1380\n",
              "Feb-11    1297\n",
              "Dec-10    1267\n",
              "Oct-10    1132\n",
              "Nov-10    1121\n",
              "Jul-10    1119\n",
              "Sep-10    1086\n",
              "Aug-10    1078\n",
              "Jun-10    1029\n",
              "May-10     920\n",
              "Apr-10     827\n",
              "Mar-10     737\n",
              "Feb-10     627\n",
              "Nov-09     602\n",
              "Dec-09     598\n",
              "Jan-10     589\n",
              "Oct-09     545\n",
              "Sep-09     449\n",
              "Aug-09     408\n",
              "Jul-09     374\n",
              "Jun-09     356\n",
              "May-09     319\n",
              "Apr-09     290\n",
              "Mar-09     276\n",
              "Feb-09     260\n",
              "Jan-09     239\n",
              "Mar-08     236\n",
              "Dec-08     223\n",
              "Nov-08     184\n",
              "Feb-08     174\n",
              "Jan-08     171\n",
              "Apr-08     155\n",
              "Oct-08      96\n",
              "Dec-07      85\n",
              "Jul-08      83\n",
              "May-08      71\n",
              "Aug-08      71\n",
              "Jun-08      66\n",
              "Oct-07      47\n",
              "Nov-07      37\n",
              "Aug-07      33\n",
              "Sep-08      32\n",
              "Jul-07      30\n",
              "Sep-07      18\n",
              "Jun-07       1\n",
              "Name: issue_d, dtype: int64"
            ]
          },
          "metadata": {},
          "execution_count": 184
        }
      ]
    },
    {
      "cell_type": "code",
      "source": [
        "df[\"issue_month\"] = df[\"issue_d\"].apply( lambda x: str(x[0:3]))"
      ],
      "metadata": {
        "id": "caVIhVTo4bin"
      },
      "execution_count": 185,
      "outputs": []
    },
    {
      "cell_type": "code",
      "source": [
        "df[\"issue_month\"].value_counts"
      ],
      "metadata": {
        "id": "oUzY1K9k5Hgv",
        "colab": {
          "base_uri": "https://localhost:8080/"
        },
        "outputId": "8325c5fa-d9eb-40a4-ab1d-047a921a3d79"
      },
      "execution_count": 186,
      "outputs": [
        {
          "output_type": "execute_result",
          "data": {
            "text/plain": [
              "<bound method IndexOpsMixin.value_counts of 0        Dec\n",
              "1        Dec\n",
              "2        Dec\n",
              "3        Dec\n",
              "5        Dec\n",
              "        ... \n",
              "39712    Jul\n",
              "39713    Jul\n",
              "39714    Jul\n",
              "39715    Jul\n",
              "39716    Jun\n",
              "Name: issue_month, Length: 38577, dtype: object>"
            ]
          },
          "metadata": {},
          "execution_count": 186
        }
      ]
    },
    {
      "cell_type": "code",
      "source": [
        "df[\"issue_year\"] = df[\"issue_d\"].apply( lambda x: int(x[4:])+2000)"
      ],
      "metadata": {
        "id": "KPq_7I585Nbn"
      },
      "execution_count": 187,
      "outputs": []
    },
    {
      "cell_type": "code",
      "source": [
        "df[\"issue_year\"].value_counts()"
      ],
      "metadata": {
        "id": "VE6iREfK5eTI",
        "colab": {
          "base_uri": "https://localhost:8080/"
        },
        "outputId": "a865b401-36e6-4b62-9c29-0e61d91e25a8"
      },
      "execution_count": 188,
      "outputs": [
        {
          "output_type": "execute_result",
          "data": {
            "text/plain": [
              "2011    20516\n",
              "2010    11532\n",
              "2009     4716\n",
              "2008     1562\n",
              "2007      251\n",
              "Name: issue_year, dtype: int64"
            ]
          },
          "metadata": {},
          "execution_count": 188
        }
      ]
    },
    {
      "cell_type": "markdown",
      "source": [
        "## Removing outliers"
      ],
      "metadata": {
        "id": "n-wrCUw7mJHD"
      }
    },
    {
      "cell_type": "code",
      "source": [
        "df.columns"
      ],
      "metadata": {
        "colab": {
          "base_uri": "https://localhost:8080/"
        },
        "id": "DlS4Z85zmIeJ",
        "outputId": "b80b1ea6-5d99-4fce-f0b0-7e43b2bbc3e2"
      },
      "execution_count": 189,
      "outputs": [
        {
          "output_type": "execute_result",
          "data": {
            "text/plain": [
              "Index(['funded_amnt_inv', 'term', 'int_rate', 'installment', 'grade',\n",
              "       'sub_grade', 'emp_length', 'home_ownership', 'annual_inc',\n",
              "       'verification_status', 'issue_d', 'loan_status', 'purpose', 'zip_code',\n",
              "       'addr_state', 'dti', 'delinq_2yrs', 'earliest_cr_line',\n",
              "       'inq_last_6mths', 'mths_since_last_delinq', 'open_acc', 'pub_rec',\n",
              "       'revol_bal', 'revol_util', 'total_acc', 'total_pymnt',\n",
              "       'total_rec_prncp', 'total_rec_int', 'total_rec_late_fee', 'recoveries',\n",
              "       'last_pymnt_d', 'last_pymnt_amnt', 'last_credit_pull_d',\n",
              "       'pub_rec_bankruptcies', 'issue_month', 'issue_year'],\n",
              "      dtype='object')"
            ]
          },
          "metadata": {},
          "execution_count": 189
        }
      ]
    },
    {
      "cell_type": "code",
      "source": [
        ""
      ],
      "metadata": {
        "id": "jm1zsrQivYDu"
      },
      "execution_count": 84,
      "outputs": []
    },
    {
      "cell_type": "markdown",
      "source": [
        "**Plotting bar plot to detect outliers for some columns**"
      ],
      "metadata": {
        "id": "zOhRN9eYwehQ"
      }
    },
    {
      "cell_type": "code",
      "source": [
        "# oulier detection for funded_amnt_inv start\n",
        "df[\"funded_amnt_inv\"].plot.box()\n",
        "print(df.shape)\n",
        "\n",
        "# oulier detection for funded_amnt_inv end"
      ],
      "metadata": {
        "colab": {
          "base_uri": "https://localhost:8080/",
          "height": 283
        },
        "id": "pGVmHSd9mZ6w",
        "outputId": "f1367698-ee63-4c01-93eb-a935038d9004"
      },
      "execution_count": 190,
      "outputs": [
        {
          "output_type": "stream",
          "name": "stdout",
          "text": [
            "(38577, 36)\n"
          ]
        },
        {
          "output_type": "display_data",
          "data": {
            "image/png": "[encoded data removed]",
            "text/plain": [
              "<Figure size 432x288 with 1 Axes>"
            ]
          },
          "metadata": {
            "needs_background": "light"
          }
        }
      ]
    },
    {
      "cell_type": "code",
      "source": [
        "# oulier detection for int_rate start\n",
        "df[\"int_rate\"].plot.box()\n",
        "print(df.shape)\n",
        "\n",
        "# oulier detection for int_rate end"
      ],
      "metadata": {
        "colab": {
          "base_uri": "https://localhost:8080/",
          "height": 284
        },
        "id": "Zz6_9nSWvfV6",
        "outputId": "0fc38c2a-2df1-40b8-abcd-66f8152fad23"
      },
      "execution_count": 191,
      "outputs": [
        {
          "output_type": "stream",
          "name": "stdout",
          "text": [
            "(38577, 36)\n"
          ]
        },
        {
          "output_type": "display_data",
          "data": {
            "image/png": "[encoded data removed]",
            "text/plain": [
              "<Figure size 432x288 with 1 Axes>"
            ]
          },
          "metadata": {
            "needs_background": "light"
          }
        }
      ]
    },
    {
      "cell_type": "code",
      "source": [
        "# oulier detection for installment start\n",
        "df[\"installment\"].plot.box()\n",
        "print(df.shape)\n",
        "\n",
        "# oulier detection for installment end"
      ],
      "metadata": {
        "colab": {
          "base_uri": "https://localhost:8080/",
          "height": 282
        },
        "id": "01Nm0TOEvrHs",
        "outputId": "a1dfccfc-1b5e-4b6b-f517-ce0ad020f942"
      },
      "execution_count": 192,
      "outputs": [
        {
          "output_type": "stream",
          "name": "stdout",
          "text": [
            "(38577, 36)\n"
          ]
        },
        {
          "output_type": "display_data",
          "data": {
            "image/png": "[encoded data removed]",
            "text/plain": [
              "<Figure size 432x288 with 1 Axes>"
            ]
          },
          "metadata": {
            "needs_background": "light"
          }
        }
      ]
    },
    {
      "cell_type": "code",
      "source": [
        "# oulier detection for dti start\n",
        "df[\"dti\"].plot.box()\n",
        "print(df.shape)\n",
        "\n",
        "# oulier detection for dti end"
      ],
      "metadata": {
        "colab": {
          "base_uri": "https://localhost:8080/",
          "height": 282
        },
        "id": "FY3FACervyE3",
        "outputId": "ca8c6d0a-8bcf-4b8d-eeee-abd24a929b63"
      },
      "execution_count": 193,
      "outputs": [
        {
          "output_type": "stream",
          "name": "stdout",
          "text": [
            "(38577, 36)\n"
          ]
        },
        {
          "output_type": "display_data",
          "data": {
            "image/png": "[encoded data removed]",
            "text/plain": [
              "<Figure size 432x288 with 1 Axes>"
            ]
          },
          "metadata": {
            "needs_background": "light"
          }
        }
      ]
    },
    {
      "cell_type": "markdown",
      "source": [
        "**Choosing those column who are having more ouliers**"
      ],
      "metadata": {
        "id": "pM_xB_dhwo6K"
      }
    },
    {
      "cell_type": "code",
      "source": [
        "lower_quartile = df[[\"funded_amnt_inv\",\"int_rate\",\"installment\"]].quantile(0.10)\n",
        "higher_quartile = df[[\"funded_amnt_inv\",\"int_rate\",\"installment\"]].quantile(0.90)\n",
        "print(lower_quartile)\n",
        "print(higher_quartile)\n",
        "\n"
      ],
      "metadata": {
        "colab": {
          "base_uri": "https://localhost:8080/"
        },
        "id": "6wV-3olrrl_a",
        "outputId": "2f989fed-6246-49fa-9d18-eadb8d871c86"
      },
      "execution_count": 194,
      "outputs": [
        {
          "output_type": "stream",
          "name": "stdout",
          "text": [
            "funded_amnt_inv    2825.00\n",
            "int_rate              7.14\n",
            "installment          98.99\n",
            "Name: 0.1, dtype: float64\n",
            "funded_amnt_inv    19975.00\n",
            "int_rate              16.82\n",
            "installment          620.90\n",
            "Name: 0.9, dtype: float64\n"
          ]
        }
      ]
    },
    {
      "cell_type": "code",
      "source": [
        "df.shape"
      ],
      "metadata": {
        "colab": {
          "base_uri": "https://localhost:8080/"
        },
        "id": "waZdg3UMsp-T",
        "outputId": "5008ec3b-39f2-4e8b-939a-5e11cc20d359"
      },
      "execution_count": 195,
      "outputs": [
        {
          "output_type": "execute_result",
          "data": {
            "text/plain": [
              "(38577, 36)"
            ]
          },
          "metadata": {},
          "execution_count": 195
        }
      ]
    },
    {
      "cell_type": "markdown",
      "source": [
        "Applying percentile filter to remove outliers"
      ],
      "metadata": {
        "id": "PdeSVYa-wzJm"
      }
    },
    {
      "cell_type": "code",
      "source": [
        "df = df[ (df[\"funded_amnt_inv\"] >= lower_quartile[\"funded_amnt_inv\"]) & (df[\"funded_amnt_inv\"] <= higher_quartile[\"funded_amnt_inv\"])]\n",
        "df = df[ (df[\"int_rate\"] >= lower_quartile[\"int_rate\"]) & (df[\"int_rate\"] <= higher_quartile[\"int_rate\"])]\n",
        "df = df[ (df[\"installment\"] >= lower_quartile[\"installment\"]) & (df[\"installment\"] <= higher_quartile[\"installment\"])]"
      ],
      "metadata": {
        "id": "ctY1hL26sbRB"
      },
      "execution_count": 196,
      "outputs": []
    },
    {
      "cell_type": "code",
      "source": [
        "df.shape"
      ],
      "metadata": {
        "colab": {
          "base_uri": "https://localhost:8080/"
        },
        "id": "X6SLsOX6stR6",
        "outputId": "dbde6755-ad87-4eb6-ff0f-c8f79b9114d0"
      },
      "execution_count": 197,
      "outputs": [
        {
          "output_type": "execute_result",
          "data": {
            "text/plain": [
              "(23348, 36)"
            ]
          },
          "metadata": {},
          "execution_count": 197
        }
      ]
    },
    {
      "cell_type": "markdown",
      "source": [
        "# Univariate Analysis and Segmented Univariate Analysis for different variables"
      ],
      "metadata": {
        "id": "4en_3INUyFFA"
      }
    },
    {
      "cell_type": "code",
      "source": [
        "df.dtypes"
      ],
      "metadata": {
        "colab": {
          "base_uri": "https://localhost:8080/"
        },
        "id": "b1L8LeOQyEOx",
        "outputId": "9f74519b-5ab8-4d5b-f8b4-67844bb30032"
      },
      "execution_count": 198,
      "outputs": [
        {
          "output_type": "execute_result",
          "data": {
            "text/plain": [
              "funded_amnt_inv           float64\n",
              "term                        int64\n",
              "int_rate                  float64\n",
              "installment               float64\n",
              "grade                      object\n",
              "sub_grade                  object\n",
              "emp_length                 object\n",
              "home_ownership             object\n",
              "annual_inc                float64\n",
              "verification_status        object\n",
              "issue_d                    object\n",
              "loan_status                object\n",
              "purpose                    object\n",
              "zip_code                   object\n",
              "addr_state                 object\n",
              "dti                       float64\n",
              "delinq_2yrs                 int64\n",
              "earliest_cr_line           object\n",
              "inq_last_6mths              int64\n",
              "mths_since_last_delinq    float64\n",
              "open_acc                    int64\n",
              "pub_rec                     int64\n",
              "revol_bal                   int64\n",
              "revol_util                float64\n",
              "total_acc                   int64\n",
              "total_pymnt               float64\n",
              "total_rec_prncp           float64\n",
              "total_rec_int             float64\n",
              "total_rec_late_fee        float64\n",
              "recoveries                float64\n",
              "last_pymnt_d               object\n",
              "last_pymnt_amnt           float64\n",
              "last_credit_pull_d         object\n",
              "pub_rec_bankruptcies      float64\n",
              "issue_month                object\n",
              "issue_year                  int64\n",
              "dtype: object"
            ]
          },
          "metadata": {},
          "execution_count": 198
        }
      ]
    },
    {
      "cell_type": "code",
      "source": [
        "alls = df[df[\"loan_status\"] !=\"Current\" ];\n",
        "co = df[df[\"loan_status\"]==\"Charged Off\" ];\n",
        "fp = df[df[\"loan_status\"]==\"Fully Paid\" ];"
      ],
      "metadata": {
        "id": "ByhIJiW7kUeD"
      },
      "execution_count": 199,
      "outputs": []
    },
    {
      "cell_type": "markdown",
      "source": [
        ""
      ],
      "metadata": {
        "id": "Z7o7adtF_EHI"
      }
    },
    {
      "cell_type": "markdown",
      "source": [
        "**Analysis of open account variable**"
      ],
      "metadata": {
        "id": "xw8oIrqH_YPs"
      }
    },
    {
      "cell_type": "code",
      "source": [
        "#open_acc start\n",
        "open_acc =  alls[  alls[\"open_acc\"].notnull()]\n",
        "\n",
        "\n",
        "open_acc_bins = [x for x in range(0,44,4)]\n",
        "open_acc_defaulted = open_acc[open_acc[\"loan_status\"]==\"Charged Off\"].groupby(by = [pd.cut(open_acc[open_acc[\"loan_status\"]==\"Charged Off\"]['open_acc'], open_acc_bins)]).size().sort_values(ascending=False)\n",
        "open_acc_all =  open_acc.groupby (by= [pd.cut(open_acc['open_acc'], open_acc_bins)]).size().sort_values(ascending=False)\n",
        "\n",
        "open_acc_df = pd.concat([open_acc_defaulted, open_acc_all], axis=1)\n",
        "open_acc_df.columns = [\"defaulted\",\"all\"]\n",
        "\n",
        "\n",
        "open_acc_df[\"ratio\"] = open_acc_df[ [\"defaulted\",\"all\"] ].apply(lambda x: round((x[0]/x[1])*100,0) , axis=1)\n",
        "open_acc_df[\"indexx\"] = open_acc_df.index\n",
        "\n",
        "open_acc_th = 150\n",
        "\n",
        "print(open_acc_df)\n",
        "\n",
        "#open_acc_df[ open_acc_df[\"all\"] > open_acc_th  ][\"ratio\"].sort_values(ascending=False).plot.bar()\n",
        "\n",
        "open_acc_df = open_acc_df[ open_acc_df[\"all\"] > open_acc_th  ]\n",
        "\n",
        "plt.figure(figsize=[12,10])\n",
        "plt.xticks(rotation=90)\n",
        "sns.barplot(data = open_acc_df, x=\"indexx\" , y=\"ratio\" )\n",
        "plt.title(\"% of Loans Deafulted Across Various Open Account\", fontsize=15)\n",
        "plt.xlabel(\"Open Account Range \", fontsize=12)\n",
        "plt.ylabel(\"% of Loans Defaulted\", fontsize=12)\n",
        "plt.show()\n",
        "\n",
        "#open_acc end"
      ],
      "metadata": {
        "colab": {
          "base_uri": "https://localhost:8080/",
          "height": 864
        },
        "id": "-6VJy_JdkVBO",
        "outputId": "fb5bacf7-0c18-43bd-db5a-5c678eb5d624"
      },
      "execution_count": 200,
      "outputs": [
        {
          "output_type": "stream",
          "name": "stdout",
          "text": [
            "          defaulted   all  ratio    indexx\n",
            "open_acc                                  \n",
            "(4, 8]         1190  9038   13.0    (4, 8]\n",
            "(8, 12]         939  7034   13.0   (8, 12]\n",
            "(12, 16]        434  3219   13.0  (12, 16]\n",
            "(0, 4]          368  2614   14.0    (0, 4]\n",
            "(16, 20]        143  1091   13.0  (16, 20]\n",
            "(20, 24]         39   304   13.0  (20, 24]\n",
            "(24, 28]          2    34    6.0  (24, 28]\n",
            "(28, 32]          1    11    9.0  (28, 32]\n",
            "(32, 36]          0     2    0.0  (32, 36]\n",
            "(36, 40]          0     0    NaN  (36, 40]\n"
          ]
        },
        {
          "output_type": "display_data",
          "data": {
            "image/png": "[encoded data removed]",
            "text/plain": [
              "<Figure size 864x720 with 1 Axes>"
            ]
          },
          "metadata": {
            "needs_background": "light"
          }
        }
      ]
    },
    {
      "cell_type": "markdown",
      "source": [
        "**Analysis of annual income variable**"
      ],
      "metadata": {
        "id": "0bJ5rhOZ_kVK"
      }
    },
    {
      "cell_type": "code",
      "source": [
        "\n",
        "#annual_inc start\n",
        "annual_inc =  alls[  alls[\"annual_inc\"].notnull()]\n",
        "\n",
        "\n",
        "annual_inc_bins = [x for x in range(0,200000,15000)]\n",
        "annual_inc_defaulted = annual_inc[annual_inc[\"loan_status\"]==\"Charged Off\"].groupby(by = [pd.cut(annual_inc[annual_inc[\"loan_status\"]==\"Charged Off\"]['annual_inc'], annual_inc_bins)]).size().sort_values(ascending=False)\n",
        "annual_inc_all =  annual_inc.groupby (by= [pd.cut(annual_inc['annual_inc'], annual_inc_bins)]).size().sort_values(ascending=False)\n",
        "\n",
        "annual_inc_df = pd.concat([annual_inc_defaulted, annual_inc_all], axis=1)\n",
        "annual_inc_df.columns = [\"defaulted\",\"all\"]\n",
        "\n",
        "\n",
        "annual_inc_df[\"ratio\"] = annual_inc_df[ [\"defaulted\",\"all\"] ].apply(lambda x: round((x[0]/x[1])*100,0) , axis=1)\n",
        "annual_inc_df[\"indexx\"] = annual_inc_df.index\n",
        "\n",
        "annual_inc_th = 150\n",
        "\n",
        "print(annual_inc_df)\n",
        "\n",
        "#annual_inc_df[ annual_inc_df[\"all\"] > annual_inc_th  ][\"ratio\"].sort_values(ascending=False).plot.bar()\n",
        "\n",
        "annual_inc_df = annual_inc_df[ annual_inc_df[\"all\"] > annual_inc_th  ]\n",
        "\n",
        "plt.figure(figsize=[12,10])\n",
        "plt.xticks(rotation=90)\n",
        "sns.barplot(data = annual_inc_df, x=\"indexx\" , y=\"ratio\" )\n",
        "plt.title(\"% of Loans Deafulted Across Various Income Groups \", fontsize=15)\n",
        "plt.xlabel(\"Anual Income Range\", fontsize=12)\n",
        "plt.ylabel(\"% of Loans Defaulted\", fontsize=12)\n",
        "plt.show()\n",
        "\n",
        "#annual_inc end"
      ],
      "metadata": {
        "colab": {
          "base_uri": "https://localhost:8080/",
          "height": 966
        },
        "id": "sIS0VtQljdyj",
        "outputId": "81b05de8-87d8-49e8-8139-b72c20c2669a"
      },
      "execution_count": 201,
      "outputs": [
        {
          "output_type": "stream",
          "name": "stdout",
          "text": [
            "                  defaulted   all  ratio            indexx\n",
            "annual_inc                                                \n",
            "(0, 15000]               43   181   24.0        (0, 15000]\n",
            "(15000, 30000]          444  2516   18.0    (15000, 30000]\n",
            "(30000, 45000]          838  5393   16.0    (30000, 45000]\n",
            "(45000, 60000]          780  5525   14.0    (45000, 60000]\n",
            "(60000, 75000]          437  3733   12.0    (60000, 75000]\n",
            "(75000, 90000]          237  2273   10.0    (75000, 90000]\n",
            "(90000, 105000]         127  1422    9.0   (90000, 105000]\n",
            "(105000, 120000]         77   914    8.0  (105000, 120000]\n",
            "(120000, 135000]         46   467   10.0  (120000, 135000]\n",
            "(135000, 150000]         33   324   10.0  (135000, 150000]\n",
            "(150000, 165000]         18   152   12.0  (150000, 165000]\n",
            "(165000, 180000]         10   132    8.0  (165000, 180000]\n",
            "(180000, 195000]          5    44   11.0  (180000, 195000]\n"
          ]
        },
        {
          "output_type": "display_data",
          "data": {
            "image/png": "[encoded data removed]",
            "text/plain": [
              "<Figure size 864x720 with 1 Axes>"
            ]
          },
          "metadata": {
            "needs_background": "light"
          }
        }
      ]
    },
    {
      "cell_type": "code",
      "source": [
        ""
      ],
      "metadata": {
        "id": "7MvL_Ssj14-n"
      },
      "execution_count": 201,
      "outputs": []
    },
    {
      "cell_type": "code",
      "source": [
        ""
      ],
      "metadata": {
        "id": "DS7RL_3plNYR"
      },
      "execution_count": 201,
      "outputs": []
    },
    {
      "cell_type": "code",
      "source": [
        ""
      ],
      "metadata": {
        "id": "7_Q9EB-UlNi2"
      },
      "execution_count": 201,
      "outputs": []
    },
    {
      "cell_type": "markdown",
      "source": [
        "**Analysis of interest variable variable**"
      ],
      "metadata": {
        "id": "KZcGyscQ_rbj"
      }
    },
    {
      "cell_type": "code",
      "source": [
        "\n",
        "\n",
        "#int_rate start\n",
        "int_rate =  alls[  alls[\"int_rate\"].notnull()]\n",
        "\n",
        "\n",
        "int_rate_bins = [x for x in range(0,30,2)]\n",
        "int_rate_defaulted = int_rate[int_rate[\"loan_status\"]==\"Charged Off\"].groupby(by = [pd.cut(int_rate[int_rate[\"loan_status\"]==\"Charged Off\"]['int_rate'], int_rate_bins)]).size().sort_values(ascending=False)\n",
        "int_rate_all =  int_rate.groupby (by= [pd.cut(int_rate['int_rate'], int_rate_bins)]).size().sort_values(ascending=False)\n",
        "\n",
        "int_rate_df = pd.concat([int_rate_defaulted, int_rate_all], axis=1)\n",
        "int_rate_df.columns = [\"defaulted\",\"all\"]\n",
        "\n",
        "int_rate_th = 200\n",
        "\n",
        "int_rate_df = int_rate_df[ int_rate_df[\"all\"] > int_rate_th  ]\n",
        "\n",
        "int_rate_df[\"ratio\"] = int_rate_df[ [\"defaulted\",\"all\"] ].apply(lambda x: (round((x[0]/x[1])*100,0)) , axis=1)\n",
        "int_rate_df[\"indexx\"] = int_rate_df.index\n",
        "\n",
        "#int_rate_th = 200\n",
        "\n",
        "print(int_rate_df)\n",
        "\n",
        "#int_rate_df[ int_rate_df[\"all\"] > int_rate_th  ][\"ratio\"].sort_values(ascending=False).plot.bar()\n",
        "\n",
        "#int_rate_df = int_rate_df[ int_rate_df[\"all\"] > int_rate_th  ]\n",
        "\n",
        "plt.figure(figsize=[12,10])\n",
        "plt.xticks(rotation=90)\n",
        "sns.barplot(data = int_rate_df, x=\"indexx\" , y=\"ratio\" )\n",
        "plt.title(\"% of Loans Deafulted Across Various Interest Group\", fontsize=15)\n",
        "plt.xlabel(\"Rate of Interest\", fontsize=12)\n",
        "plt.ylabel(\"% of Loans Defaulted\", fontsize=12)\n",
        "plt.show()\n",
        "\n",
        "\n",
        "#int_rate end"
      ],
      "metadata": {
        "colab": {
          "base_uri": "https://localhost:8080/",
          "height": 795
        },
        "id": "a06mCATBxX5D",
        "outputId": "6de808d0-bfb4-4ff7-ac82-130c8b5e7295"
      },
      "execution_count": 202,
      "outputs": [
        {
          "output_type": "stream",
          "name": "stdout",
          "text": [
            "          defaulted   all  ratio    indexx\n",
            "int_rate                                  \n",
            "(6, 8]          196  3535    6.0    (6, 8]\n",
            "(8, 10]         289  3190    9.0   (8, 10]\n",
            "(10, 12]        758  6089   12.0  (10, 12]\n",
            "(12, 14]        820  5403   15.0  (12, 14]\n",
            "(14, 16]        763  3905   20.0  (14, 16]\n",
            "(16, 18]        290  1226   24.0  (16, 18]\n"
          ]
        },
        {
          "output_type": "display_data",
          "data": {
            "image/png": "[encoded data removed]",
            "text/plain": [
              "<Figure size 864x720 with 1 Axes>"
            ]
          },
          "metadata": {
            "needs_background": "light"
          }
        }
      ]
    },
    {
      "cell_type": "markdown",
      "source": [
        "**Analysis of DTI variable**"
      ],
      "metadata": {
        "id": "SGs3TuzMAI_X"
      }
    },
    {
      "cell_type": "code",
      "source": [
        "\n",
        "\n",
        "#dti start\n",
        "dti =  alls[  alls[\"dti\"].notnull()]\n",
        "\n",
        "\n",
        "dti_bins = [x for x in range(0,30,2)]\n",
        "dti_defaulted = dti[dti[\"loan_status\"]==\"Charged Off\"].groupby(by = [pd.cut(dti[dti[\"loan_status\"]==\"Charged Off\"]['dti'], dti_bins)]).size().sort_values(ascending=False)\n",
        "dti_all =  dti.groupby (by= [pd.cut(dti['dti'], dti_bins)]).size().sort_values(ascending=False)\n",
        "\n",
        "dti_df = pd.concat([dti_defaulted, dti_all], axis=1)\n",
        "dti_df.columns = [\"defaulted\",\"all\"]\n",
        "\n",
        "dti_th = 400\n",
        "\n",
        "dti_df = dti_df[ dti_df[\"all\"] > dti_th  ]\n",
        "\n",
        "dti_df[\"ratio\"] = dti_df[ [\"defaulted\",\"all\"] ].apply(lambda x: (round((x[0]/x[1])*100,0)) , axis=1)\n",
        "dti_df[\"indexx\"] = dti_df.index\n",
        "\n",
        "#dti_th = 200\n",
        "\n",
        "print(dti_df)\n",
        "\n",
        "#dti_df[ dti_df[\"all\"] > dti_th  ][\"ratio\"].sort_values(ascending=False).plot.bar()\n",
        "\n",
        "#dti_df = dti_df[ dti_df[\"all\"] > dti_th  ]\n",
        "\n",
        "plt.figure(figsize=[12,10])\n",
        "plt.xticks(rotation=90)\n",
        "sns.barplot(data = dti_df, x=\"indexx\" , y=\"ratio\" )\n",
        "plt.title(\"% of Loans Deafulted Across Debt-To-Income-Ratio(DTI)\", fontsize=15)\n",
        "plt.xlabel(\"DTI Range\", fontsize=12)\n",
        "plt.ylabel(\"% of Loans Defaulted\", fontsize=12)\n",
        "plt.show()\n",
        "\n",
        "\n",
        "#dti end"
      ],
      "metadata": {
        "colab": {
          "base_uri": "https://localhost:8080/",
          "height": 916
        },
        "id": "ccgULPnm2YZL",
        "outputId": "8ab5b5a1-2ea3-492e-f3f4-c7821c5f78ae"
      },
      "execution_count": 203,
      "outputs": [
        {
          "output_type": "stream",
          "name": "stdout",
          "text": [
            "          defaulted   all  ratio    indexx\n",
            "dti                                       \n",
            "(0, 2]          107   920   12.0    (0, 2]\n",
            "(2, 4]          139  1135   12.0    (2, 4]\n",
            "(4, 6]          160  1492   11.0    (4, 6]\n",
            "(6, 8]          205  1818   11.0    (6, 8]\n",
            "(8, 10]         262  2108   12.0   (8, 10]\n",
            "(10, 12]        270  2290   12.0  (10, 12]\n",
            "(12, 14]        328  2400   14.0  (12, 14]\n",
            "(14, 16]        314  2336   13.0  (14, 16]\n",
            "(16, 18]        309  2210   14.0  (16, 18]\n",
            "(18, 20]        305  2055   15.0  (18, 20]\n",
            "(20, 22]        276  1787   15.0  (20, 22]\n",
            "(22, 24]        265  1638   16.0  (22, 24]\n",
            "(24, 26]        123   780   16.0  (24, 26]\n"
          ]
        },
        {
          "output_type": "display_data",
          "data": {
            "image/png": "[encoded data removed]",
            "text/plain": [
              "<Figure size 864x720 with 1 Axes>"
            ]
          },
          "metadata": {
            "needs_background": "light"
          }
        }
      ]
    },
    {
      "cell_type": "markdown",
      "source": [
        "**Analysis of funded amount variable**"
      ],
      "metadata": {
        "id": "sceIv-fzAQMA"
      }
    },
    {
      "cell_type": "code",
      "source": [
        "\n",
        "#funded_amnt_inv start\n",
        "funded_amnt_inv =  alls[  alls[\"funded_amnt_inv\"].notnull()]\n",
        "\n",
        "\n",
        "funded_amnt_inv_bins = [x for x in range(0,30000,2000)]\n",
        "funded_amnt_inv_defaulted = funded_amnt_inv[funded_amnt_inv[\"loan_status\"]==\"Charged Off\"].groupby(by = [pd.cut(funded_amnt_inv[funded_amnt_inv[\"loan_status\"]==\"Charged Off\"]['funded_amnt_inv'], funded_amnt_inv_bins)]).size().sort_values(ascending=False)\n",
        "funded_amnt_inv_all =  funded_amnt_inv.groupby (by= [pd.cut(funded_amnt_inv['funded_amnt_inv'], funded_amnt_inv_bins)]).size().sort_values(ascending=False)\n",
        "\n",
        "funded_amnt_inv_df = pd.concat([funded_amnt_inv_defaulted, funded_amnt_inv_all], axis=1)\n",
        "funded_amnt_inv_df.columns = [\"defaulted\",\"all\"]\n",
        "\n",
        "funded_amnt_inv_th = 400\n",
        "\n",
        "funded_amnt_inv_df = funded_amnt_inv_df[ funded_amnt_inv_df[\"all\"] > funded_amnt_inv_th  ]\n",
        "\n",
        "funded_amnt_inv_df[\"ratio\"] = funded_amnt_inv_df[ [\"defaulted\",\"all\"] ].apply(lambda x: (round((x[0]/x[1])*100,0)) , axis=1)\n",
        "funded_amnt_inv_df[\"indexx\"] = funded_amnt_inv_df.index\n",
        "\n",
        "#funded_amnt_inv_th = 200\n",
        "\n",
        "print(funded_amnt_inv_df)\n",
        "\n",
        "#funded_amnt_inv_df[ funded_amnt_inv_df[\"all\"] > funded_amnt_inv_th  ][\"ratio\"].sort_values(ascending=False).plot.bar()\n",
        "\n",
        "#funded_amnt_inv_df = funded_amnt_inv_df[ funded_amnt_inv_df[\"all\"] > funded_amnt_inv_th  ]\n",
        "\n",
        "plt.figure(figsize=[12,10])\n",
        "plt.xticks(rotation=90)\n",
        "sns.barplot(data = funded_amnt_inv_df, x=\"indexx\" , y=\"ratio\" )\n",
        "plt.title(\"% of Loans Deafulted Across Funded-Amount-Invested\", fontsize=15)\n",
        "plt.xlabel(\"Funded-Amount-Invested Range\", fontsize=12)\n",
        "plt.ylabel(\"% of Loans Defaulted\", fontsize=12)\n",
        "plt.show()\n",
        "\n",
        "#funded_amnt_inv end"
      ],
      "metadata": {
        "colab": {
          "base_uri": "https://localhost:8080/",
          "height": 884
        },
        "id": "pqFwdnlj3z1S",
        "outputId": "16d93b7b-c138-4fff-b178-d6549a403588"
      },
      "execution_count": 204,
      "outputs": [
        {
          "output_type": "stream",
          "name": "stdout",
          "text": [
            "                 defaulted   all  ratio          indexx\n",
            "funded_amnt_inv                                        \n",
            "(4000, 6000]           692  5181   13.0    (4000, 6000]\n",
            "(8000, 10000]          524  4041   13.0   (8000, 10000]\n",
            "(6000, 8000]           503  3923   13.0    (6000, 8000]\n",
            "(10000, 12000]         343  2748   12.0  (10000, 12000]\n",
            "(14000, 16000]         342  2415   14.0  (14000, 16000]\n",
            "(2000, 4000]           277  2063   13.0    (2000, 4000]\n",
            "(12000, 14000]         199  1564   13.0  (12000, 14000]\n",
            "(16000, 18000]         142   945   15.0  (16000, 18000]\n",
            "(18000, 20000]          94   468   20.0  (18000, 20000]\n"
          ]
        },
        {
          "output_type": "display_data",
          "data": {
            "image/png": "[encoded data removed]",
            "text/plain": [
              "<Figure size 864x720 with 1 Axes>"
            ]
          },
          "metadata": {
            "needs_background": "light"
          }
        }
      ]
    },
    {
      "cell_type": "markdown",
      "source": [
        "**Analysis of purpose variable**"
      ],
      "metadata": {
        "id": "9LbAC8leAUQ4"
      }
    },
    {
      "cell_type": "code",
      "source": [
        "#purpose start\n",
        "\n",
        "purpose =  alls[  alls[\"purpose\"].notnull()]\n",
        "\n",
        "purpose_defaulted = purpose[purpose[\"loan_status\"]==\"Charged Off\"].groupby(by = [\"purpose\"] ).size().sort_values(ascending=False)\n",
        "purpose_all =  purpose.groupby (by = [\"purpose\"]).size().sort_values(ascending=False)\n",
        "\n",
        "purpose_df = pd.concat([purpose_defaulted, purpose_all], axis=1)\n",
        "purpose_df.columns = [\"defaulted\",\"all\"]\n",
        "\n",
        "\n",
        "purpose_df[\"ratio\"] = purpose_df[ [\"defaulted\",\"all\"] ].apply(lambda x: round((x[0]/x[1])*100,0) , axis=1)\n",
        "\n",
        "purpose_th = 200\n",
        "\n",
        "purpose_df = purpose_df[ purpose_df[\"all\"] > purpose_th ]\n",
        "\n",
        "\n",
        "#purpose_df [purpose_df[\"all\"] > purpose_th] [\"ratio\"].sort_values(ascending=False).plot.bar()\n",
        "\n",
        "print(purpose_df)\n",
        "\n",
        "plt.figure(figsize=[10,8])\n",
        "plt.title(\"% of Loans Deafulted Across Various Purpose\", fontsize=15)\n",
        "sns.barplot(purpose_df[\"ratio\"].index , purpose_df[\"ratio\"].values)\n",
        "plt.xlabel(\" Purpose\", fontsize=12)\n",
        "plt.ylabel(\"% of Loans Defaulted\", fontsize=12)\n",
        "plt.xticks(rotation=90)\n",
        "plt.show()\n",
        "#print(purpose_df)\n",
        "#purpose end"
      ],
      "metadata": {
        "colab": {
          "base_uri": "https://localhost:8080/",
          "height": 834
        },
        "id": "9Fq8MP-GkVJA",
        "outputId": "8bf0c1e9-2d71-4fee-9fa2-7df5ffdd5918"
      },
      "execution_count": 205,
      "outputs": [
        {
          "output_type": "stream",
          "name": "stdout",
          "text": [
            "                    defaulted    all  ratio\n",
            "purpose                                    \n",
            "debt_consolidation       1541  11287   14.0\n",
            "credit_card               329   3259   10.0\n",
            "other                     315   2181   14.0\n",
            "small_business            232    921   25.0\n",
            "home_improvement          198   1616   12.0\n",
            "major_purchase            136   1244   11.0\n",
            "car                       101    903   11.0\n",
            "medical                    67    397   17.0\n",
            "wedding                    53    612    9.0\n",
            "moving                     44    302   15.0\n",
            "house                      30    206   15.0\n"
          ]
        },
        {
          "output_type": "display_data",
          "data": {
            "image/png": "[encoded data removed]",
            "text/plain": [
              "<Figure size 720x576 with 1 Axes>"
            ]
          },
          "metadata": {
            "needs_background": "light"
          }
        }
      ]
    },
    {
      "cell_type": "markdown",
      "source": [
        "\n",
        "\n",
        "**Analysis of Month of issue variable**"
      ],
      "metadata": {
        "id": "FuW5XXbsAYUJ"
      }
    },
    {
      "cell_type": "code",
      "source": [
        "#issue_month start\n",
        "\n",
        "issue_month =  alls[  alls[\"issue_month\"].notnull()]\n",
        "\n",
        "issue_month_defaulted = issue_month[issue_month[\"loan_status\"]==\"Charged Off\"].groupby(by = [\"issue_month\"] ).size().sort_values(ascending=False)\n",
        "issue_month_all =  issue_month.groupby (by = [\"issue_month\"]).size().sort_values(ascending=False)\n",
        "\n",
        "issue_month_df = pd.concat([issue_month_defaulted, issue_month_all], axis=1)\n",
        "issue_month_df.columns = [\"defaulted\",\"all\"]\n",
        "\n",
        "\n",
        "issue_month_df[\"ratio\"] = issue_month_df[ [\"defaulted\",\"all\"] ].apply(lambda x: round((x[0]/x[1])*100,0) , axis=1)\n",
        "\n",
        "\n",
        "\n",
        "issue_month_th = 150\n",
        "\n",
        "issue_month_df = issue_month_df[ issue_month_df[\"all\"] > issue_month_th ]\n",
        "\n",
        "#issue_month_df [issue_month_df[\"all\"] > issue_month_th] [\"ratio\"].sort_values(ascending=False).plot.bar()\n",
        "\n",
        "print(issue_month_df)\n",
        "\n",
        "plt.figure(figsize=[10,8])\n",
        "plt.title(\"% of Loans Deafulted Across Various Month-Of-Loan-Issue\", fontsize=15)\n",
        "sns.barplot(issue_month_df[\"ratio\"].index , issue_month_df[\"ratio\"].values)\n",
        "plt.xlabel(\"Sub Grade\", fontsize=12)\n",
        "plt.ylabel(\"% of Loans Defaulted\", fontsize=12)\n",
        "plt.xticks(rotation=90)\n",
        "plt.show()\n",
        "#print(issue_month_df)\n",
        "#issue_month end"
      ],
      "metadata": {
        "colab": {
          "base_uri": "https://localhost:8080/",
          "height": 771
        },
        "id": "jSqaoMv_k2Po",
        "outputId": "f29a5ff0-48b3-48e4-ded2-d9fc10fcd88b"
      },
      "execution_count": 206,
      "outputs": [
        {
          "output_type": "stream",
          "name": "stdout",
          "text": [
            "             defaulted   all  ratio\n",
            "issue_month                        \n",
            "Dec                342  2366   14.0\n",
            "Sep                335  2127   16.0\n",
            "Nov                316  2281   14.0\n",
            "Oct                299  2104   14.0\n",
            "Jul                272  2106   13.0\n",
            "Jun                262  1980   13.0\n",
            "May                252  1786   14.0\n",
            "Aug                248  2010   12.0\n",
            "Apr                232  1855   13.0\n",
            "Mar                206  1794   11.0\n",
            "Jan                184  1407   13.0\n",
            "Feb                168  1532   11.0\n"
          ]
        },
        {
          "output_type": "display_data",
          "data": {
            "image/png": "[encoded data removed]",
            "text/plain": [
              "<Figure size 720x576 with 1 Axes>"
            ]
          },
          "metadata": {
            "needs_background": "light"
          }
        }
      ]
    },
    {
      "cell_type": "code",
      "source": [
        "#issue_year start\n",
        "\n",
        "issue_year =  alls[  alls[\"issue_year\"].notnull()]\n",
        "\n",
        "issue_year_defaulted = issue_year[issue_year[\"loan_status\"]==\"Charged Off\"].groupby(by = [\"issue_year\"] ).size().sort_values(ascending=False)\n",
        "issue_year_all =  issue_year.groupby (by = [\"issue_year\"]).size().sort_values(ascending=False)\n",
        "\n",
        "issue_year_df = pd.concat([issue_year_defaulted, issue_year_all], axis=1)\n",
        "issue_year_df.columns = [\"defaulted\",\"all\"]\n",
        "\n",
        "\n",
        "issue_year_df[\"ratio\"] = issue_year_df[ [\"defaulted\",\"all\"] ].apply(lambda x: round((x[0]/x[1])*100,0) , axis=1)\n",
        "\n",
        "\n",
        "\n",
        "issue_year_th = 150\n",
        "\n",
        "issue_year_df = issue_year_df[ issue_year_df[\"all\"] > issue_year_th ]\n",
        "\n",
        "#issue_year_df [issue_year_df[\"all\"] > issue_year_th] [\"ratio\"].sort_values(ascending=False).plot.bar()\n",
        "\n",
        "print(issue_year_df)\n",
        "\n",
        "plt.figure(figsize=[10,8])\n",
        "plt.title(\"% of Loans Deafulted Across Various Year-Of-Loan-Issue\", fontsize=15)\n",
        "sns.barplot(issue_year_df[\"ratio\"].index , issue_year_df[\"ratio\"].values)\n",
        "plt.xlabel(\"Sub Grade\", fontsize=12)\n",
        "plt.ylabel(\"% of Loans Defaulted\", fontsize=12)\n",
        "plt.xticks(rotation=90)\n",
        "plt.show()\n",
        "#print(issue_year_df)\n",
        "#issue_year end"
      ],
      "metadata": {
        "colab": {
          "base_uri": "https://localhost:8080/",
          "height": 637
        },
        "id": "HkTnvMzo37IU",
        "outputId": "90a15254-a25f-4520-b051-8b527bf4a011"
      },
      "execution_count": 216,
      "outputs": [
        {
          "output_type": "stream",
          "name": "stdout",
          "text": [
            "            defaulted    all  ratio\n",
            "issue_year                         \n",
            "2011             1666  11515   14.0\n",
            "2010              974   7650   13.0\n",
            "2009              406   3538   11.0\n",
            "2008               69    627   11.0\n"
          ]
        },
        {
          "output_type": "display_data",
          "data": {
            "image/png": "[encoded data removed]",
            "text/plain": [
              "<Figure size 720x576 with 1 Axes>"
            ]
          },
          "metadata": {
            "needs_background": "light"
          }
        }
      ]
    },
    {
      "cell_type": "markdown",
      "source": [
        "**Analysis of sub grade variable**"
      ],
      "metadata": {
        "id": "S7IRCvYkAjPv"
      }
    },
    {
      "cell_type": "code",
      "source": [
        "#sub_grade start\n",
        "\n",
        "sub_grade =  alls[  alls[\"sub_grade\"].notnull()]\n",
        "\n",
        "sub_grade_defaulted = sub_grade[sub_grade[\"loan_status\"]==\"Charged Off\"].groupby(by = [\"sub_grade\"] ).size().sort_values(ascending=False)\n",
        "sub_grade_all =  sub_grade.groupby (by = [\"sub_grade\"]).size().sort_values(ascending=False)\n",
        "\n",
        "sub_grade_df = pd.concat([sub_grade_defaulted, sub_grade_all], axis=1)\n",
        "sub_grade_df.columns = [\"defaulted\",\"all\"]\n",
        "\n",
        "\n",
        "sub_grade_df[\"ratio\"] = sub_grade_df[ [\"defaulted\",\"all\"] ].apply(lambda x: round((x[0]/x[1])*100,0) , axis=1)\n",
        "\n",
        "\n",
        "\n",
        "sub_grade_th = 150\n",
        "\n",
        "sub_grade_df = sub_grade_df[ sub_grade_df[\"all\"] > sub_grade_th ]\n",
        "\n",
        "#sub_grade_df [sub_grade_df[\"all\"] > sub_grade_th] [\"ratio\"].sort_values(ascending=False).plot.bar()\n",
        "\n",
        "sub_grade_df = sub_grade_df.sort_index()\n",
        "print(sub_grade_df)\n",
        "\n",
        "plt.figure(figsize=[10,8])\n",
        "plt.title(\"% of Loans Deafulted Across Various SubGrade\", fontsize=15)\n",
        "sns.barplot(sub_grade_df[\"ratio\"].index , sub_grade_df[\"ratio\"].values)\n",
        "plt.xlabel(\"Sub Grade\", fontsize=12)\n",
        "plt.ylabel(\"% of Loans Defaulted\", fontsize=12)\n",
        "plt.xticks(rotation=90)\n",
        "plt.show()\n",
        "#print(sub_grade_df)\n",
        "#sub_grade end"
      ],
      "metadata": {
        "colab": {
          "base_uri": "https://localhost:8080/",
          "height": 904
        },
        "id": "NtAZzVDFkVPo",
        "outputId": "143c1e04-6949-4740-c1bf-72813da0c22b"
      },
      "execution_count": 217,
      "outputs": [
        {
          "output_type": "stream",
          "name": "stdout",
          "text": [
            "           defaulted   all  ratio\n",
            "sub_grade                        \n",
            "A3              49.0   827    6.0\n",
            "A4             114.0  2077    5.0\n",
            "A5             159.0  2015    8.0\n",
            "B1             136.0  1407   10.0\n",
            "B2             157.0  1492   11.0\n",
            "B3             247.0  2088   12.0\n",
            "B4             239.0  1836   13.0\n",
            "B5             262.0  1909   14.0\n",
            "C1             242.0  1539   16.0\n",
            "C2             238.0  1414   17.0\n",
            "C3             195.0  1125   17.0\n",
            "C4             153.0   883   17.0\n",
            "C5             149.0   820   18.0\n",
            "D1             120.0   669   18.0\n",
            "D2             208.0   959   22.0\n",
            "D3             146.0   707   21.0\n",
            "D4              78.0   411   19.0\n",
            "D5              73.0   377   19.0\n",
            "E1              81.0   348   23.0\n",
            "E2              54.0   249   22.0\n"
          ]
        },
        {
          "output_type": "display_data",
          "data": {
            "image/png": "[encoded data removed]",
            "text/plain": [
              "<Figure size 720x576 with 1 Axes>"
            ]
          },
          "metadata": {
            "needs_background": "light"
          }
        }
      ]
    },
    {
      "cell_type": "markdown",
      "source": [
        "**Analysis of term variable**"
      ],
      "metadata": {
        "id": "pvKrpo2pApcj"
      }
    },
    {
      "cell_type": "code",
      "source": [
        "\n",
        "#term start\n",
        "\n",
        "term =  alls[  alls[\"term\"].notnull()]\n",
        "\n",
        "term_defaulted = term[term[\"loan_status\"]==\"Charged Off\"].groupby(by = [\"term\"] ).size().sort_values(ascending=False)\n",
        "term_all =  term.groupby (by = [\"term\"]).size().sort_values(ascending=False)\n",
        "\n",
        "term_df = pd.concat([term_defaulted, term_all], axis=1)\n",
        "term_df.columns = [\"defaulted\",\"all\"]\n",
        "\n",
        "\n",
        "term_df[\"ratio\"] = term_df[ [\"defaulted\",\"all\"] ].apply(lambda x: round((x[0]/x[1])*100,0) , axis=1)\n",
        "\n",
        "\n",
        "\n",
        "term_th = 150\n",
        "\n",
        "term_df = term_df[ term_df[\"all\"] > term_th ]\n",
        "\n",
        "#term_df [term_df[\"all\"] > term_th] [\"ratio\"].sort_values(ascending=False).plot.bar()\n",
        "\n",
        "print(term_df)\n",
        "\n",
        "plt.figure(figsize=[10,8])\n",
        "plt.title(\"% of Loans Deafulted Across Various Term Length\", fontsize=15)\n",
        "plt.xticks(rotation=90)\n",
        "sns.barplot(term_df[\"ratio\"].index , term_df[\"ratio\"].values)\n",
        "plt.xlabel(\"Term in months\", fontsize=12)\n",
        "plt.ylabel(\"% of Loans Defaulted\", fontsize=12)\n",
        "plt.show()\n",
        "#print(term_df)\n",
        "#term end"
      ],
      "metadata": {
        "id": "W05DHZ3hkVWf",
        "colab": {
          "base_uri": "https://localhost:8080/",
          "height": 589
        },
        "outputId": "03743fd0-1197-4dc3-892e-e421ff65a894"
      },
      "execution_count": 208,
      "outputs": [
        {
          "output_type": "stream",
          "name": "stdout",
          "text": [
            "      defaulted    all  ratio\n",
            "term                         \n",
            "36         2039  18468   11.0\n",
            "60         1077   4880   22.0\n"
          ]
        },
        {
          "output_type": "display_data",
          "data": {
            "image/png": "[encoded data removed]",
            "text/plain": [
              "<Figure size 720x576 with 1 Axes>"
            ]
          },
          "metadata": {
            "needs_background": "light"
          }
        }
      ]
    },
    {
      "cell_type": "markdown",
      "source": [
        "**Analysis of grade variable**"
      ],
      "metadata": {
        "id": "IBePEGaaAvQ2"
      }
    },
    {
      "cell_type": "code",
      "source": [
        "\n",
        "#grade start\n",
        "\n",
        "grade =  alls[  alls[\"grade\"].notnull()]\n",
        "\n",
        "grade_defaulted = grade[grade[\"loan_status\"]==\"Charged Off\"].groupby(by = [\"grade\"] ).size().sort_values(ascending=False)\n",
        "grade_all =  grade.groupby (by = [\"grade\"]).size().sort_values(ascending=False)\n",
        "\n",
        "grade_df = pd.concat([grade_defaulted, grade_all], axis=1)\n",
        "grade_df.columns = [\"defaulted\",\"all\"]\n",
        "\n",
        "\n",
        "grade_df[\"ratio\"] = grade_df[ [\"defaulted\",\"all\"] ].apply(lambda x: round((x[0]/x[1])*100,0) , axis=1)\n",
        "\n",
        "\n",
        "\n",
        "grade_th = 300\n",
        "\n",
        "grade_df = grade_df[ grade_df[\"all\"] > grade_th ]\n",
        "\n",
        "#grade_df [grade_df[\"all\"] > grade_th] [\"ratio\"].sort_values(ascending=False).plot.bar()\n",
        "\n",
        "grade_df = grade_df.sort_index()\n",
        "print(grade_df)\n",
        "\n",
        "plt.figure(figsize=[10,8])\n",
        "sns.barplot(grade_df[\"ratio\"].index , grade_df[\"ratio\"].values)\n",
        "plt.title(\"% of Loans Deafulted Across Various grade\", fontsize=15)\n",
        "plt.xlabel(\"Grade\", fontsize=12)\n",
        "plt.ylabel(\"% of Loans Defaulted\", fontsize=12)\n",
        "plt.xticks(rotation=90)\n",
        "plt.show()\n",
        "#print(grade_df)\n",
        "#grade end"
      ],
      "metadata": {
        "id": "F-ddCj7UkVbB",
        "colab": {
          "base_uri": "https://localhost:8080/",
          "height": 638
        },
        "outputId": "3e380227-ee87-45c4-cecb-4646518676ae"
      },
      "execution_count": 209,
      "outputs": [
        {
          "output_type": "stream",
          "name": "stdout",
          "text": [
            "       defaulted   all  ratio\n",
            "grade                        \n",
            "A            325  5032    6.0\n",
            "B           1041  8732   12.0\n",
            "C            977  5781   17.0\n",
            "D            625  3123   20.0\n",
            "E            146   677   22.0\n"
          ]
        },
        {
          "output_type": "display_data",
          "data": {
            "image/png": "[encoded data removed]",
            "text/plain": [
              "<Figure size 720x576 with 1 Axes>"
            ]
          },
          "metadata": {
            "needs_background": "light"
          }
        }
      ]
    },
    {
      "cell_type": "markdown",
      "source": [
        "**Analysis of home ownership variable**"
      ],
      "metadata": {
        "id": "Gv73r1QKAzyC"
      }
    },
    {
      "cell_type": "code",
      "source": [
        "#home_ownership start\n",
        "\n",
        "home_ownership =  alls[  alls[\"home_ownership\"].notnull()]\n",
        "\n",
        "home_ownership_defaulted = home_ownership[home_ownership[\"loan_status\"]==\"Charged Off\"].groupby(by = [\"home_ownership\"] ).size().sort_values(ascending=False)\n",
        "home_ownership_all =  home_ownership.groupby (by = [\"home_ownership\"]).size().sort_values(ascending=False)\n",
        "\n",
        "home_ownership_df = pd.concat([home_ownership_defaulted, home_ownership_all], axis=1)\n",
        "home_ownership_df.columns = [\"defaulted\",\"all\"]\n",
        "\n",
        "\n",
        "home_ownership_df[\"ratio\"] = home_ownership_df[ [\"defaulted\",\"all\"] ].apply(lambda x: round((x[0]/x[1])*100,0) , axis=1)\n",
        "\n",
        "home_ownership_th = 200\n",
        "\n",
        "home_ownership_df = home_ownership_df[ home_ownership_df[\"all\"] > home_ownership_th ]\n",
        "\n",
        "#home_ownership_df [home_ownership_df[\"all\"] > home_ownership_th] [\"ratio\"].sort_values(ascending=False).plot.bar()\n",
        "\n",
        "print(home_ownership_df)\n",
        "\n",
        "plt.figure(figsize=[10,8])\n",
        "sns.barplot(home_ownership_df[\"ratio\"].index , home_ownership_df[\"ratio\"].values)\n",
        "plt.title(\"% of Loans Deafulted Across Various home_ownership\" , fontsize=15 )\n",
        "plt.xlabel(\"Home_ownership\" , fontsize=12)\n",
        "plt.ylabel(\"% of Loans Defaulted\" , fontsize=12)\n",
        "plt.xticks(rotation=90)\n",
        "plt.show()\n",
        "#print(home_ownership_df)\n",
        "#home_ownership end"
      ],
      "metadata": {
        "id": "qUdHE3JnkVhp",
        "colab": {
          "base_uri": "https://localhost:8080/",
          "height": 652
        },
        "outputId": "3da434e8-8dd0-4a2c-f19e-33af4fb2f98b"
      },
      "execution_count": 210,
      "outputs": [
        {
          "output_type": "stream",
          "name": "stdout",
          "text": [
            "                defaulted    all  ratio\n",
            "home_ownership                         \n",
            "RENT                 1605  11762   14.0\n",
            "MORTGAGE             1257   9743   13.0\n",
            "OWN                   241   1773   14.0\n"
          ]
        },
        {
          "output_type": "display_data",
          "data": {
            "image/png": "[encoded data removed]",
            "text/plain": [
              "<Figure size 720x576 with 1 Axes>"
            ]
          },
          "metadata": {
            "needs_background": "light"
          }
        }
      ]
    },
    {
      "cell_type": "markdown",
      "source": [
        "**Analysis of employment length variable**"
      ],
      "metadata": {
        "id": "6o_DEV1cA4RP"
      }
    },
    {
      "cell_type": "code",
      "source": [
        "#emp_length start\n",
        "\n",
        "emp_length =  alls[  alls[\"emp_length\"].notnull()]\n",
        "\n",
        "emp_length_defaulted = emp_length[emp_length[\"loan_status\"]==\"Charged Off\"].groupby(by = [\"emp_length\"] ).size().sort_values(ascending=False)\n",
        "emp_length_all =  emp_length.groupby (by = [\"emp_length\"]).size().sort_values(ascending=False)\n",
        "\n",
        "emp_length_df = pd.concat([emp_length_defaulted, emp_length_all], axis=1)\n",
        "emp_length_df.columns = [\"defaulted\",\"all\"]\n",
        "\n",
        "\n",
        "emp_length_df[\"ratio\"] = emp_length_df[ [\"defaulted\",\"all\"] ].apply(lambda x: round((x[0]/x[1])*100,0) , axis=1)\n",
        "\n",
        "emp_length_th = 200\n",
        "\n",
        "emp_length_df = emp_length_df[ emp_length_df[\"all\"] > emp_length_th ]\n",
        "\n",
        "\n",
        "#emp_length_df [emp_length_df[\"all\"] > emp_length_th] [\"ratio\"].sort_values(ascending=False).plot.bar()\n",
        "\n",
        "#print(emp_length_df)\n",
        "\n",
        "plt.figure(figsize=[10,8])\n",
        "sns.barplot(emp_length_df[\"ratio\"].index , emp_length_df[\"ratio\"].values)\n",
        "plt.title(\"% of Loans Deafulted Across Various Emp_Length\", fontsize=15)\n",
        "plt.xlabel(\"Emp_length\" , fontsize=12)\n",
        "plt.ylabel(\"% of Loans Defaulted\" , fontsize=12)\n",
        "plt.xticks(rotation=90)\n",
        "plt.show()\n",
        "#print(emp_length_df)\n",
        "#emp_length end"
      ],
      "metadata": {
        "id": "OFQRmbr7kVlw",
        "colab": {
          "base_uri": "https://localhost:8080/",
          "height": 520
        },
        "outputId": "1b16dfc9-d506-43b1-98b8-12c3445fdacb"
      },
      "execution_count": 211,
      "outputs": [
        {
          "output_type": "display_data",
          "data": {
            "image/png": "[encoded data removed]",
            "text/plain": [
              "<Figure size 720x576 with 1 Axes>"
            ]
          },
          "metadata": {
            "needs_background": "light"
          }
        }
      ]
    },
    {
      "cell_type": "markdown",
      "source": [
        "**Analysis of state variable**"
      ],
      "metadata": {
        "id": "QoGiaWhSA9Ee"
      }
    },
    {
      "cell_type": "code",
      "source": [
        "#addr_state start\n",
        "\n",
        "addr_state =  alls[  alls[\"addr_state\"].notnull()]\n",
        "\n",
        "addr_state_defaulted = addr_state[addr_state[\"loan_status\"]==\"Charged Off\"].groupby(by = [\"addr_state\"] ).size().sort_values(ascending=False)\n",
        "addr_state_all =  addr_state.groupby (by = [\"addr_state\"]).size().sort_values(ascending=False)\n",
        "\n",
        "addr_state_df = pd.concat([addr_state_defaulted, addr_state_all], axis=1)\n",
        "addr_state_df.columns = [\"defaulted\",\"all\"]\n",
        "\n",
        "\n",
        "addr_state_df[\"ratio\"] = addr_state_df[ [\"defaulted\",\"all\"] ].apply(lambda x: round((x[0]/x[1])*100,0) , axis=1)\n",
        "\n",
        "addr_state_th = 200\n",
        "\n",
        "addr_state_df = addr_state_df[ addr_state_df[\"all\"] > addr_state_th ]\n",
        "\n",
        "\n",
        "#addr_state_df [addr_state_df[\"all\"] > addr_state_th] [\"ratio\"].sort_values(ascending=False).plot.bar()\n",
        "\n",
        "print(addr_state_df)\n",
        "\n",
        "plt.figure(figsize=[10,8])\n",
        "sns.barplot(addr_state_df[\"ratio\"].index , addr_state_df[\"ratio\"].values)\n",
        "plt.title(\"% of Loans Deafulted Across Various States\", fontsize=15)\n",
        "plt.xlabel(\"State\", fontsize=12)\n",
        "plt.ylabel(\"% of Loans Defaulted\", fontsize=12)\n",
        "plt.xticks(rotation=90)\n",
        "plt.show()\n",
        "#print(addr_state_df)\n",
        "#addr_state end"
      ],
      "metadata": {
        "id": "MAxvY4kdkVqB",
        "colab": {
          "base_uri": "https://localhost:8080/",
          "height": 1000
        },
        "outputId": "3473b5a6-2e83-4465-a9f2-77c19b771c59"
      },
      "execution_count": 212,
      "outputs": [
        {
          "output_type": "stream",
          "name": "stdout",
          "text": [
            "            defaulted   all  ratio\n",
            "addr_state                        \n",
            "CA              647.0  4254   15.0\n",
            "NY              272.0  2275   12.0\n",
            "FL              270.0  1696   16.0\n",
            "TX              152.0  1589   10.0\n",
            "NJ              151.0  1114   14.0\n",
            "GA              131.0   794   16.0\n",
            "IL              111.0   917   12.0\n",
            "PA               96.0   903   11.0\n",
            "MA               95.0   781   12.0\n",
            "VA               89.0   833   11.0\n",
            "MD               85.0   612   14.0\n",
            "OH               82.0   723   11.0\n",
            "MO               74.0   422   18.0\n",
            "AZ               72.0   523   14.0\n",
            "WA               70.0   499   14.0\n",
            "NV               58.0   280   21.0\n",
            "MI               56.0   409   14.0\n",
            "MN               56.0   365   15.0\n",
            "CT               55.0   438   13.0\n",
            "CO               52.0   447   12.0\n",
            "NC               52.0   395   13.0\n",
            "SC               36.0   274   13.0\n",
            "OR               36.0   265   14.0\n",
            "WI               35.0   267   13.0\n",
            "LA               34.0   250   14.0\n",
            "AL               29.0   272   11.0\n"
          ]
        },
        {
          "output_type": "display_data",
          "data": {
            "image/png": "[encoded data removed]",
            "text/plain": [
              "<Figure size 720x576 with 1 Axes>"
            ]
          },
          "metadata": {
            "needs_background": "light"
          }
        }
      ]
    },
    {
      "cell_type": "markdown",
      "source": [
        "**Analysis of revolving balance variable**"
      ],
      "metadata": {
        "id": "zI8VFFP9BCsz"
      }
    },
    {
      "cell_type": "code",
      "source": [
        "#revol_bal start\n",
        "revol_bal =  alls[  alls[\"revol_bal\"].notnull()]\n",
        "\n",
        "\n",
        "revol_bal_bins = [x for x in range(0,30000,2000)]\n",
        "revol_bal_defaulted = revol_bal[revol_bal[\"loan_status\"]==\"Charged Off\"].groupby(by = [pd.cut(revol_bal[revol_bal[\"loan_status\"]==\"Charged Off\"]['revol_bal'], revol_bal_bins)]).size().sort_values(ascending=False)\n",
        "revol_bal_all =  revol_bal.groupby (by= [pd.cut(revol_bal['revol_bal'], revol_bal_bins)]).size().sort_values(ascending=False)\n",
        "\n",
        "revol_bal_df = pd.concat([revol_bal_defaulted, revol_bal_all], axis=1)\n",
        "revol_bal_df.columns = [\"defaulted\",\"all\"]\n",
        "\n",
        "\n",
        "revol_bal_df[\"ratio\"] = revol_bal_df[ [\"defaulted\",\"all\"] ].apply(lambda x: round((x[0]/x[1])*100,0) , axis=1)\n",
        "revol_bal_df[\"indexx\"] = revol_bal_df.index\n",
        "\n",
        "revol_bal_th = 150\n",
        "\n",
        "print(revol_bal_df)\n",
        "\n",
        "#revol_bal_df[ revol_bal_df[\"all\"] > revol_bal_th  ][\"ratio\"].sort_values(ascending=False).plot.bar()\n",
        "\n",
        "revol_bal_df = revol_bal_df[ revol_bal_df[\"all\"] > revol_bal_th  ]\n",
        "\n",
        "plt.figure(figsize=[12,10])\n",
        "plt.xticks(rotation=90)\n",
        "sns.barplot(data = revol_bal_df, x=\"indexx\" , y=\"ratio\" )\n",
        "plt.title(\"% of Loans Deafulted Across Various Revolving-Balance Groups \")\n",
        "plt.xlabel(\"Revol Balance\",fontsize=12)\n",
        "plt.ylabel(\"% of Loans Defaulted\",fontsize=12)\n",
        "plt.show()\n",
        "\n",
        "#revol_bal end"
      ],
      "metadata": {
        "colab": {
          "base_uri": "https://localhost:8080/",
          "height": 969
        },
        "id": "ELFeOQpKpEGe",
        "outputId": "8de15ac1-02fc-4cf7-d598-324c6de48077"
      },
      "execution_count": 213,
      "outputs": [
        {
          "output_type": "stream",
          "name": "stdout",
          "text": [
            "                defaulted   all  ratio          indexx\n",
            "revol_bal                                             \n",
            "(0, 2000]             342  2687   13.0       (0, 2000]\n",
            "(2000, 4000]          374  2694   14.0    (2000, 4000]\n",
            "(4000, 6000]          359  2642   14.0    (4000, 6000]\n",
            "(6000, 8000]          318  2417   13.0    (6000, 8000]\n",
            "(8000, 10000]         281  2171   13.0   (8000, 10000]\n",
            "(10000, 12000]        234  1800   13.0  (10000, 12000]\n",
            "(12000, 14000]        209  1534   14.0  (12000, 14000]\n",
            "(14000, 16000]        154  1250   12.0  (14000, 16000]\n",
            "(16000, 18000]        140  1030   14.0  (16000, 18000]\n",
            "(18000, 20000]        103   787   13.0  (18000, 20000]\n",
            "(20000, 22000]         84   555   15.0  (20000, 22000]\n",
            "(22000, 24000]         63   503   13.0  (22000, 24000]\n",
            "(24000, 26000]         55   407   14.0  (24000, 26000]\n",
            "(26000, 28000]         39   295   13.0  (26000, 28000]\n"
          ]
        },
        {
          "output_type": "display_data",
          "data": {
            "image/png": "[encoded data removed]",
            "text/plain": [
              "<Figure size 864x720 with 1 Axes>"
            ]
          },
          "metadata": {
            "needs_background": "light"
          }
        }
      ]
    },
    {
      "cell_type": "markdown",
      "source": [
        "**Analysis of total account variable**"
      ],
      "metadata": {
        "id": "C6B7LQKtByU_"
      }
    },
    {
      "cell_type": "code",
      "source": [
        "#total_acc start\n",
        "total_acc =  alls[  alls[\"total_acc\"].notnull()]\n",
        "\n",
        "\n",
        "total_acc_bins = [x for x in range(0,78,4)]\n",
        "total_acc_defaulted = total_acc[total_acc[\"loan_status\"]==\"Charged Off\"].groupby(by = [pd.cut(total_acc[total_acc[\"loan_status\"]==\"Charged Off\"]['total_acc'], total_acc_bins)]).size().sort_values(ascending=False)\n",
        "total_acc_all =  total_acc.groupby (by= [pd.cut(total_acc['total_acc'], total_acc_bins)]).size().sort_values(ascending=False)\n",
        "\n",
        "total_acc_df = pd.concat([total_acc_defaulted, total_acc_all], axis=1)\n",
        "total_acc_df.columns = [\"defaulted\",\"all\"]\n",
        "\n",
        "\n",
        "total_acc_df[\"ratio\"] = total_acc_df[ [\"defaulted\",\"all\"] ].apply(lambda x: round((x[0]/x[1])*100,0) , axis=1)\n",
        "total_acc_df[\"indexx\"] = total_acc_df.index\n",
        "\n",
        "total_acc_th = 150\n",
        "\n",
        "print(total_acc_df)\n",
        "\n",
        "#total_acc_df[ total_acc_df[\"all\"] > total_acc_th  ][\"ratio\"].sort_values(ascending=False).plot.bar()\n",
        "\n",
        "total_acc_df = total_acc_df[ total_acc_df[\"all\"] > total_acc_th  ]\n",
        "\n",
        "plt.figure(figsize=[12,10])\n",
        "plt.xticks(rotation=90)\n",
        "sns.barplot(data = total_acc_df, x=\"indexx\" , y=\"ratio\" )\n",
        "plt.title(\"% of Loans Deafulted Across Various Total-Credit-Lines Grous \", fontsize=15)\n",
        "plt.xlabel(\"Total Account Group\", fontsize=12)\n",
        "plt.ylabel(\"% of Loans Defaulted\", fontsize=12)\n",
        "plt.show()\n",
        "\n",
        "#total_acc end"
      ],
      "metadata": {
        "colab": {
          "base_uri": "https://localhost:8080/",
          "height": 1000
        },
        "id": "0th_Sx-KpEdn",
        "outputId": "e37cfe6b-5d17-4764-d535-ef76d31384b5"
      },
      "execution_count": 214,
      "outputs": [
        {
          "output_type": "stream",
          "name": "stdout",
          "text": [
            "           defaulted   all  ratio    indexx\n",
            "total_acc                                  \n",
            "(0, 4]            47   310   15.0    (0, 4]\n",
            "(4, 8]           271  1881   14.0    (4, 8]\n",
            "(8, 12]          448  3116   14.0   (8, 12]\n",
            "(12, 16]         495  3629   14.0  (12, 16]\n",
            "(16, 20]         420  3465   12.0  (16, 20]\n",
            "(20, 24]         405  3034   13.0  (20, 24]\n",
            "(24, 28]         316  2477   13.0  (24, 28]\n",
            "(28, 32]         223  1844   12.0  (28, 32]\n",
            "(32, 36]         192  1260   15.0  (32, 36]\n",
            "(36, 40]         133   910   15.0  (36, 40]\n",
            "(40, 44]          74   533   14.0  (40, 44]\n",
            "(44, 48]          47   366   13.0  (44, 48]\n",
            "(48, 52]          18   228    8.0  (48, 52]\n",
            "(52, 56]          12   125   10.0  (52, 56]\n",
            "(56, 60]           6    61   10.0  (56, 60]\n",
            "(60, 64]           9    97    9.0  (60, 64]\n",
            "(64, 68]           0     5    0.0  (64, 68]\n",
            "(68, 72]           0     3    0.0  (68, 72]\n",
            "(72, 76]           0     1    0.0  (72, 76]\n"
          ]
        },
        {
          "output_type": "display_data",
          "data": {
            "image/png": "[encoded data removed]",
            "text/plain": [
              "<Figure size 864x720 with 1 Axes>"
            ]
          },
          "metadata": {
            "needs_background": "light"
          }
        }
      ]
    },
    {
      "cell_type": "markdown",
      "source": [
        "# Bivariate analysis with different variables"
      ],
      "metadata": {
        "id": "N7JwIV2Y2XeC"
      }
    },
    {
      "cell_type": "markdown",
      "source": [
        "**Analysis of term and purpose variables together**"
      ],
      "metadata": {
        "id": "6ItEw-RQB78H"
      }
    },
    {
      "cell_type": "code",
      "source": [
        "# Bivariate term_purpose start\n",
        "term_purpose = alls[alls[\"loan_status\"]==\"Charged Off\" ];\n",
        "#term_purpose[term_purpose[\"loan_status\"]==\"Charged Off\"].groupby(by = ['term']).size().plot.bar( rot=90)\n",
        "\n",
        "term_purpose_co_group = term_purpose[term_purpose[\"loan_status\"]==\"Charged Off\"].groupby(by = ['term', 'purpose']).size().sort_values(ascending=False)\n",
        "term_purpose_all_group = alls.groupby(by = ['term','purpose']).size().sort_values(ascending=False)\n",
        "\n",
        "term_purpose_grp = pd.concat([term_purpose_co_group, term_purpose_all_group], axis=1)\n",
        "\n",
        "#print (type(term_purpose_grp))\n",
        "term_purpose_grp.columns = ['co','all']\n",
        "#term_purpose_grp[['co','all']].plot.bar( rot=90)\n",
        "\n",
        "term_purpose_grp = term_purpose_grp[term_purpose_grp['all']>100];\n",
        "\n",
        "term_purpose_grp[\"co_percent\"] = term_purpose_grp.co.apply(lambda x: round(x*100/term_purpose_grp.co.sum(),2))\n",
        "term_purpose_grp[\"all_percent\"]= term_purpose_grp['all'].apply(lambda x: round(x*100/term_purpose_grp['all'].sum(),2))\n",
        "term_purpose_grp[\"ratio\"] = term_purpose_grp[ [\"co\",\"all\"] ].apply(lambda x: int(x[0]*100//x[1]) , axis=1)\n",
        "\n",
        "#term_purpose_grp[\"indexx\"] = \n",
        "term_purpose_grp = term_purpose_grp[['ratio']].sort_values(by='ratio',ascending=False).head(20)\n",
        "#term_purpose_grp[] = term_purpose_grp.index.map('_'.join)\n",
        "\n",
        "term_purpose_grp = term_purpose_grp.reset_index(level=[0,1])\n",
        "\n",
        "\n",
        "term_purpose_grp[\"indexx\"] = term_purpose_grp[ [\"term\",\"purpose\"] ].apply( (lambda x: str(x[0])+\"-\"+str(x[1])) , axis=1)\n",
        "\n",
        "\n",
        "\n",
        "plt.figure(figsize=[10,8])\n",
        "sns.barplot(term_purpose_grp[\"indexx\"] , term_purpose_grp[\"ratio\"].values)\n",
        "plt.title(\"% of Loans Deafulted Across Various Combinations of Term and Purpose\", fontsize=15)\n",
        "plt.xlabel(\"Term and Grade\" , fontsize=12)\n",
        "plt.ylabel(\"% of Loans Defaulted\", fontsize=12)\n",
        "plt.xticks(rotation=90)\n",
        "plt.show()\n",
        "\n",
        "\n",
        "\n",
        "#term_purpose_grp.sort_values(by='ratio',ascending=False).head(100)\n",
        "\n",
        "#term_purpose end"
      ],
      "metadata": {
        "id": "gTVr-z6pkVu7",
        "colab": {
          "base_uri": "https://localhost:8080/",
          "height": 624
        },
        "outputId": "f844a867-101c-4be0-bdcf-62ceb959b9f1"
      },
      "execution_count": 226,
      "outputs": [
        {
          "output_type": "display_data",
          "data": {
            "image/png": "[encoded data removed]",
            "text/plain": [
              "<Figure size 720x576 with 1 Axes>"
            ]
          },
          "metadata": {
            "needs_background": "light"
          }
        }
      ]
    },
    {
      "cell_type": "markdown",
      "source": [
        "**Analysis of subgrade and home ownership variables together**"
      ],
      "metadata": {
        "id": "Y7tKAU7-CXVK"
      }
    },
    {
      "cell_type": "code",
      "source": [
        "# Bivariate sub_grade_home_ownership start\n",
        "sub_grade_home_ownership = alls[alls[\"loan_status\"]==\"Charged Off\" ];\n",
        "#sub_grade_home_ownership[sub_grade_home_ownership[\"loan_status\"]==\"Charged Off\"].groupby(by = ['sub_grade']).size().plot.bar( rot=90)\n",
        "\n",
        "sub_grade_home_ownership_co_group = sub_grade_home_ownership[sub_grade_home_ownership[\"loan_status\"]==\"Charged Off\"].groupby(by = ['sub_grade', 'home_ownership']).size().sort_values(ascending=False)\n",
        "sub_grade_home_ownership_all_group = alls.groupby(by = ['sub_grade','home_ownership']).size().sort_values(ascending=False)\n",
        "\n",
        "sub_grade_home_ownership_grp = pd.concat([sub_grade_home_ownership_co_group, sub_grade_home_ownership_all_group], axis=1)\n",
        "\n",
        "#print (type(sub_grade_home_ownership_grp))\n",
        "sub_grade_home_ownership_grp.columns = ['co','all']\n",
        "#sub_grade_home_ownership_grp[['co','all']].plot.bar( rot=90)\n",
        "\n",
        "\n",
        "\n",
        "sub_grade_home_ownership_grp[\"co_percent\"] = sub_grade_home_ownership_grp.co.apply(lambda x: round(x*100/sub_grade_home_ownership_grp.co.sum(),2))\n",
        "sub_grade_home_ownership_grp[\"all_percent\"]= sub_grade_home_ownership_grp['all'].apply(lambda x: round(x*100/sub_grade_home_ownership_grp['all'].sum(),2))\n",
        "sub_grade_home_ownership_grp[\"ratio\"] = sub_grade_home_ownership_grp[ [\"co\",\"all\"] ].apply(lambda x: round((x[0]/x[1])*100,0) , axis=1)\n",
        "\n",
        "sub_grade_home_ownership_grp = sub_grade_home_ownership_grp[sub_grade_home_ownership_grp['all']>100];\n",
        "\n",
        "\n",
        "sub_grade_home_ownership_grp = sub_grade_home_ownership_grp.reset_index(level=[0,1])\n",
        "\n",
        "\n",
        "sub_grade_home_ownership_grp[\"indexx\"] = sub_grade_home_ownership_grp[ [\"sub_grade\",\"home_ownership\"] ].apply( (lambda x: str(x[0])+\"-\"+str(x[1])) , axis=1)\n",
        "\n",
        "sub_grade_home_ownership_grp = sub_grade_home_ownership_grp[['ratio','indexx']].sort_values(by='ratio',ascending=False).head(15)\n",
        "\n",
        "\n",
        "plt.figure(figsize=[10,8])\n",
        "sns.barplot(sub_grade_home_ownership_grp[\"indexx\"] , sub_grade_home_ownership_grp[\"ratio\"].values)\n",
        "plt.title(\"% of Loans Deafulted Across Various Combination of Sub_grade and Home_Ownership\", fontsize=15)\n",
        "plt.xlabel(\"SubGrade and HomeOwnership\", fontsize=12)\n",
        "plt.ylabel(\"% of Loans Defaulted\", fontsize=12)\n",
        "plt.xticks(rotation=90)\n",
        "plt.show()\n",
        "\n",
        "#sub_grade_home_ownership_grp[['ratio']].sort_values(by='ratio',ascending=False).head(10).plot.bar(rot=90)\n",
        "\n",
        "#sub_grade_home_ownership_grp.sort_values(by='ratio',ascending=False).head(10)\n",
        "\n",
        "#sub_grade_home_ownership end"
      ],
      "metadata": {
        "id": "VJv-nieTkVz8",
        "colab": {
          "base_uri": "https://localhost:8080/",
          "height": 583
        },
        "outputId": "2df01194-7a60-44a7-d67e-c58f2242d58f"
      },
      "execution_count": 227,
      "outputs": [
        {
          "output_type": "display_data",
          "data": {
            "image/png": "[encoded data removed]",
            "text/plain": [
              "<Figure size 720x576 with 1 Axes>"
            ]
          },
          "metadata": {
            "needs_background": "light"
          }
        }
      ]
    },
    {
      "cell_type": "markdown",
      "source": [
        "**Analysis of sub grade and annual income variables together**"
      ],
      "metadata": {
        "id": "PMeZOBrOCfxB"
      }
    },
    {
      "cell_type": "code",
      "source": [
        "# Bivariate sub_grade_annual_inc start (annual_income)\n",
        "sub_grade_annual_inc = alls[alls[\"loan_status\"]==\"Charged Off\" ];\n",
        "\n",
        "annual_inc_bin = [x for x in range (0, 200000, 20000)]\n",
        "sub_grade_annual_inc['annual_inc_bin'] = pd.cut(sub_grade_annual_inc['annual_inc'], annual_inc_bin)\n",
        "alls['annual_inc_bin'] = pd.cut(alls['annual_inc'], annual_inc_bin)\n",
        "\n",
        "\n",
        "sub_grade_annual_inc_co_group = sub_grade_annual_inc[sub_grade_annual_inc[\"loan_status\"]==\"Charged Off\"].groupby(by = ['sub_grade', 'annual_inc_bin']).size().sort_values(ascending=False)\n",
        "sub_grade_annual_inc_all_group = alls.groupby(by = ['sub_grade','annual_inc_bin']).size().sort_values(ascending=False)\n",
        "\n",
        "sub_grade_annual_inc_grp = pd.concat([sub_grade_annual_inc_co_group, sub_grade_annual_inc_all_group], axis=1)\n",
        "\n",
        "#print (type(sub_grade_annual_inc_grp))\n",
        "sub_grade_annual_inc_grp.columns = ['co','all']\n",
        "\n",
        "\n",
        "sub_grade_annual_inc_grp[\"co_percent\"] = sub_grade_annual_inc_grp.co.apply(lambda x: round(x*100/sub_grade_annual_inc_grp.co.sum(),2))\n",
        "sub_grade_annual_inc_grp[\"all_percent\"]= sub_grade_annual_inc_grp['all'].apply(lambda x: round(x*100/sub_grade_annual_inc_grp['all'].sum(),2))\n",
        "sub_grade_annual_inc_grp[\"ratio\"] = sub_grade_annual_inc_grp[ [\"co\",\"all\"] ].apply(lambda x: round((x[0]/x[1])*100,0) , axis=1)\n",
        "\n",
        "sub_grade_annual_inc_grp = sub_grade_annual_inc_grp[sub_grade_annual_inc_grp['all']>150];\n",
        "\n",
        "sub_grade_annual_inc_grp = sub_grade_annual_inc_grp.reset_index(level=[0,1])\n",
        "\n",
        "\n",
        "sub_grade_annual_inc_grp[\"indexx\"] = sub_grade_annual_inc_grp[ [\"sub_grade\",\"annual_inc_bin\"] ].apply( (lambda x: str(x[0])+\"-\"+str(x[1])) , axis=1)\n",
        "\n",
        "sub_grade_annual_inc_grp = sub_grade_annual_inc_grp[['ratio','indexx']].sort_values(by='ratio',ascending=False).head(15)\n",
        "\n",
        "\n",
        "plt.figure(figsize=[10,8])\n",
        "sns.barplot(sub_grade_annual_inc_grp[\"indexx\"] , sub_grade_annual_inc_grp[\"ratio\"].values)\n",
        "plt.title(\"% of Loans Deafulted Across Various Combination of Sub_grade and AnnulIncome\", fontsize=15)\n",
        "plt.xlabel(\"SubGrade and AnnulIncome\", fontsize=12)\n",
        "plt.ylabel(\"% of Loans Defaulted\", fontsize=12)\n",
        "plt.xticks(rotation=90)\n",
        "plt.show()\n",
        "\n",
        "\n",
        "\n",
        "#sub_grade_annual_inc_grp.sort_values(by='ratio',ascending=False).head(10)\n",
        "\n",
        "#sub_grade_annual_income end"
      ],
      "metadata": {
        "id": "uO6Zn45fkV4d",
        "colab": {
          "base_uri": "https://localhost:8080/",
          "height": 602
        },
        "outputId": "54bf63d5-4330-4fc1-df4a-e193f586389e"
      },
      "execution_count": 228,
      "outputs": [
        {
          "output_type": "display_data",
          "data": {
            "image/png": "[encoded data removed]",
            "text/plain": [
              "<Figure size 720x576 with 1 Axes>"
            ]
          },
          "metadata": {
            "needs_background": "light"
          }
        }
      ]
    },
    {
      "cell_type": "markdown",
      "source": [
        "**Analysis of state and annual icome variables together**"
      ],
      "metadata": {
        "id": "_ynfCHglCuTH"
      }
    },
    {
      "cell_type": "code",
      "source": [
        "######################################################\n",
        "\n",
        "# Bivariate addr_state_annual_inc start (annual_income)\n",
        "addr_state_annual_inc = alls[alls[\"loan_status\"]==\"Charged Off\" ];\n",
        "\n",
        "annual_inc_bin = [x for x in range (0, 240000, 60000)]\n",
        "addr_state_annual_inc['annual_inc_bin'] = pd.cut(addr_state_annual_inc['annual_inc'], annual_inc_bin)\n",
        "alls['annual_inc_bin'] = pd.cut(alls['annual_inc'], annual_inc_bin)\n",
        "\n",
        "\n",
        "addr_state_annual_inc_co_group = addr_state_annual_inc[addr_state_annual_inc[\"loan_status\"]==\"Charged Off\"].groupby(by = ['addr_state', 'annual_inc_bin']).size().sort_values(ascending=False)\n",
        "addr_state_annual_inc_all_group = alls.groupby(by = ['addr_state','annual_inc_bin']).size().sort_values(ascending=False)\n",
        "\n",
        "addr_state_annual_inc_grp = pd.concat([addr_state_annual_inc_co_group, addr_state_annual_inc_all_group], axis=1)\n",
        "\n",
        "#print (type(addr_state_annual_inc_grp))\n",
        "addr_state_annual_inc_grp.columns = ['co','all']\n",
        "\n",
        "\n",
        "addr_state_annual_inc_grp[\"co_percent\"] = addr_state_annual_inc_grp.co.apply(lambda x: round(x*100/addr_state_annual_inc_grp.co.sum(),2))\n",
        "addr_state_annual_inc_grp[\"all_percent\"]= addr_state_annual_inc_grp['all'].apply(lambda x: round(x*100/addr_state_annual_inc_grp['all'].sum(),2))\n",
        "addr_state_annual_inc_grp[\"ratio\"] = addr_state_annual_inc_grp[ [\"co\",\"all\"] ].apply(lambda x: round((x[0]/x[1])*100,0) , axis=1)\n",
        "\n",
        "addr_state_annual_inc_grp = addr_state_annual_inc_grp[addr_state_annual_inc_grp['all']>100];\n",
        "\n",
        "addr_state_annual_inc_grp = addr_state_annual_inc_grp.reset_index(level=[0,1])\n",
        "\n",
        "\n",
        "addr_state_annual_inc_grp[\"indexx\"] = addr_state_annual_inc_grp[ [\"addr_state\",\"annual_inc_bin\"] ].apply( (lambda x: str(x[0])+\"-\"+str(x[1])) , axis=1)\n",
        "\n",
        "addr_state_annual_inc_grp = addr_state_annual_inc_grp[['ratio','indexx']].sort_values(by='ratio',ascending=False).head(15)\n",
        "\n",
        "\n",
        "plt.figure(figsize=[10,8])\n",
        "sns.barplot(addr_state_annual_inc_grp[\"indexx\"] , addr_state_annual_inc_grp[\"ratio\"].values)\n",
        "plt.title(\"% of Loans Deafulted Across Various Combination of Applicant's state and annual income\", fontsize=15)\n",
        "plt.xlabel(\"State & Annual Income\" , fontsize=12)\n",
        "plt.ylabel(\"% of Loans Defaulted\" , fontsize=12)\n",
        "plt.xticks(rotation=90)\n",
        "plt.show()\n",
        "\n",
        "\n",
        "\n",
        "#addr_state_annual_inc_grp.sort_values(by='ratio',ascending=False).head(10)\n",
        "\n",
        "#addr_state_annual_income end\n",
        "\n"
      ],
      "metadata": {
        "colab": {
          "base_uri": "https://localhost:8080/",
          "height": 611
        },
        "id": "6uKexBVuyxxI",
        "outputId": "ecf958fd-3411-4d6f-e530-5ad7be77519e"
      },
      "execution_count": 229,
      "outputs": [
        {
          "output_type": "display_data",
          "data": {
            "image/png": "[encoded data removed]",
            "text/plain": [
              "<Figure size 720x576 with 1 Axes>"
            ]
          },
          "metadata": {
            "needs_background": "light"
          }
        }
      ]
    },
    {
      "cell_type": "markdown",
      "source": [
        "**Analysis of term and annaul income together**"
      ],
      "metadata": {
        "id": "8r6yhI0MDN_3"
      }
    },
    {
      "cell_type": "code",
      "source": [
        "#######################################\n",
        "\n",
        "# Bivariate term_annual_inc start (annual_income)\n",
        "term_annual_inc = alls[alls[\"loan_status\"]==\"Charged Off\" ];\n",
        "\n",
        "annual_inc_bin = [x for x in range (0, 200000, 20000)]\n",
        "term_annual_inc['annual_inc_bin'] = pd.cut(term_annual_inc['annual_inc'], annual_inc_bin)\n",
        "alls['annual_inc_bin'] = pd.cut(alls['annual_inc'], annual_inc_bin)\n",
        "\n",
        "\n",
        "term_annual_inc_co_group = term_annual_inc[term_annual_inc[\"loan_status\"]==\"Charged Off\"].groupby(by = ['term', 'annual_inc_bin']).size().sort_values(ascending=False)\n",
        "term_annual_inc_all_group = alls.groupby(by = ['term','annual_inc_bin']).size().sort_values(ascending=False)\n",
        "\n",
        "term_annual_inc_grp = pd.concat([term_annual_inc_co_group, term_annual_inc_all_group], axis=1)\n",
        "\n",
        "#print (type(term_annual_inc_grp))\n",
        "term_annual_inc_grp.columns = ['co','all']\n",
        "\n",
        "\n",
        "term_annual_inc_grp[\"co_percent\"] = term_annual_inc_grp.co.apply(lambda x: round(x*100/term_annual_inc_grp.co.sum(),2))\n",
        "term_annual_inc_grp[\"all_percent\"]= term_annual_inc_grp['all'].apply(lambda x: round(x*100/term_annual_inc_grp['all'].sum(),2))\n",
        "term_annual_inc_grp[\"ratio\"] = term_annual_inc_grp[ [\"co\",\"all\"] ].apply(lambda x: round((x[0]/x[1])*100,0) , axis=1)\n",
        "\n",
        "term_annual_inc_grp = term_annual_inc_grp[term_annual_inc_grp['all']>150];\n",
        "\n",
        "term_annual_inc_grp = term_annual_inc_grp.reset_index(level=[0,1])\n",
        "\n",
        "\n",
        "term_annual_inc_grp[\"indexx\"] = term_annual_inc_grp[ [\"term\",\"annual_inc_bin\"] ].apply( (lambda x: str(x[0])+\"-\"+str(x[1])) , axis=1)\n",
        "\n",
        "term_annual_inc_grp = term_annual_inc_grp[['ratio','indexx']].sort_values(by='ratio',ascending=False).head(15)\n",
        "\n",
        "\n",
        "plt.figure(figsize=[10,8])\n",
        "sns.barplot(term_annual_inc_grp[\"indexx\"] , term_annual_inc_grp[\"ratio\"].values)\n",
        "plt.title(\"% of Loans Deafulted Across Various Combination of Loan Term and Annual Income\", fontsize=15)\n",
        "plt.xlabel(\"Loan Term & Annual Income\", fontsize=12)\n",
        "plt.ylabel(\"% of Loans Defaulted\", fontsize=12)\n",
        "plt.xticks(rotation=90)\n",
        "plt.show()\n",
        "\n",
        "\n",
        "\n",
        "#term_annual_inc_grp.sort_values(by='ratio',ascending=False).head(10)\n",
        "\n",
        "#term_annual_income end\n",
        "\n"
      ],
      "metadata": {
        "colab": {
          "base_uri": "https://localhost:8080/",
          "height": 613
        },
        "id": "YKLNCO3gyx52",
        "outputId": "31170acd-d986-4019-eec9-851ca26ab317"
      },
      "execution_count": 230,
      "outputs": [
        {
          "output_type": "display_data",
          "data": {
            "image/png": "[encoded data removed]",
            "text/plain": [
              "<Figure size 720x576 with 1 Axes>"
            ]
          },
          "metadata": {
            "needs_background": "light"
          }
        }
      ]
    },
    {
      "cell_type": "markdown",
      "source": [
        "**Analysis of purposre and pannual income variables together**"
      ],
      "metadata": {
        "id": "Gdf7XGd1DVFx"
      }
    },
    {
      "cell_type": "code",
      "source": [
        "#######################################\n",
        "\n",
        "# Bivariate purpose_annual_inc start (annual_income)\n",
        "purpose_annual_inc = alls[alls[\"loan_status\"]==\"Charged Off\" ];\n",
        "\n",
        "annual_inc_bin = [x for x in range (0, 200000, 20000)]\n",
        "purpose_annual_inc['annual_inc_bin'] = pd.cut(purpose_annual_inc['annual_inc'], annual_inc_bin)\n",
        "alls['annual_inc_bin'] = pd.cut(alls['annual_inc'], annual_inc_bin)\n",
        "\n",
        "\n",
        "purpose_annual_inc_co_group = purpose_annual_inc[purpose_annual_inc[\"loan_status\"]==\"Charged Off\"].groupby(by = ['purpose', 'annual_inc_bin']).size().sort_values(ascending=False)\n",
        "purpose_annual_inc_all_group = alls.groupby(by = ['purpose','annual_inc_bin']).size().sort_values(ascending=False)\n",
        "\n",
        "purpose_annual_inc_grp = pd.concat([purpose_annual_inc_co_group, purpose_annual_inc_all_group], axis=1)\n",
        "\n",
        "print (type(purpose_annual_inc_grp))\n",
        "purpose_annual_inc_grp.columns = ['co','all']\n",
        "\n",
        "\n",
        "purpose_annual_inc_grp[\"co_percent\"] = purpose_annual_inc_grp.co.apply(lambda x: round(x*100/purpose_annual_inc_grp.co.sum(),2))\n",
        "purpose_annual_inc_grp[\"all_percent\"]= purpose_annual_inc_grp['all'].apply(lambda x: round(x*100/purpose_annual_inc_grp['all'].sum(),2))\n",
        "purpose_annual_inc_grp[\"ratio\"] = purpose_annual_inc_grp[ [\"co\",\"all\"] ].apply(lambda x: round((x[0]/x[1])*100,0) , axis=1)\n",
        "\n",
        "purpose_annual_inc_grp = purpose_annual_inc_grp[purpose_annual_inc_grp['all']>150];\n",
        "\n",
        "purpose_annual_inc_grp = purpose_annual_inc_grp.reset_index(level=[0,1])\n",
        "\n",
        "\n",
        "purpose_annual_inc_grp[\"indexx\"] = purpose_annual_inc_grp[ [\"purpose\",\"annual_inc_bin\"] ].apply( (lambda x: str(x[0])+\"-\"+str(x[1])) , axis=1)\n",
        "\n",
        "purpose_annual_inc_grp = purpose_annual_inc_grp[['ratio','indexx']].sort_values(by='ratio',ascending=False).head(15)\n",
        "\n",
        "\n",
        "plt.figure(figsize=[10,8])\n",
        "sns.barplot(purpose_annual_inc_grp[\"indexx\"] , purpose_annual_inc_grp[\"ratio\"].values)\n",
        "plt.title(\"% of Loans Deafulted Across Various Combination of Loan purpose and Annual Income\", fontsize=15)\n",
        "plt.xlabel(\"Loan Purpose & Annual Income\" , fontsize=15)\n",
        "plt.ylabel(\"% of Loans Defaulted\")\n",
        "plt.xticks(rotation=90)\n",
        "plt.show()\n",
        "\n",
        "\n",
        "\n",
        "#purpose_annual_inc_grp.sort_values(by='ratio',ascending=False).head(10)\n",
        "\n",
        "#purpose_annual_income end\n",
        "\n",
        "######################################################\n"
      ],
      "metadata": {
        "colab": {
          "base_uri": "https://localhost:8080/",
          "height": 707
        },
        "id": "9F0tb8ECyyCO",
        "outputId": "1ff5c685-76d1-43c8-b8d7-c64f0f37f143"
      },
      "execution_count": 231,
      "outputs": [
        {
          "output_type": "stream",
          "name": "stdout",
          "text": [
            "<class 'pandas.core.frame.DataFrame'>\n"
          ]
        },
        {
          "output_type": "display_data",
          "data": {
            "image/png": "[encoded data removed]",
            "text/plain": [
              "<Figure size 720x576 with 1 Axes>"
            ]
          },
          "metadata": {
            "needs_background": "light"
          }
        }
      ]
    },
    {
      "cell_type": "markdown",
      "source": [
        "**Analysis of grade and interest rate variables together**"
      ],
      "metadata": {
        "id": "idxJDtMQDbLB"
      }
    },
    {
      "cell_type": "code",
      "source": [
        "# Bivariate grade_int_rate start (int_rateome)\n",
        "\n",
        "grade_int_rate = alls[alls[\"loan_status\"]==\"Charged Off\" ];\n",
        "\n",
        "#grade_int_rate['int_rate'] = grade_int_rate['int_rate'].str.strip('%')\n",
        "#alls['int_rate'] = alls['int_rate'].str.strip('%')\n",
        "\n",
        "grade_int_rate['int_rate'] = pd.to_numeric(grade_int_rate['int_rate'], downcast=\"float\")\n",
        "alls['int_rate'] = pd.to_numeric(alls['int_rate'], downcast=\"float\")\n",
        "\n",
        "\n",
        "#grade_int_rate['int_rate'] =grade_int_rate['int_rate'].str.strip('< > % ')\n",
        "int_rate_bin = [x for x in range (0, 25, 2)]\n",
        "grade_int_rate['int_rate_bin'] = pd.cut(grade_int_rate['int_rate'], int_rate_bin)\n",
        "alls['int_rate_bin'] = pd.cut(alls['int_rate'], int_rate_bin)\n",
        "\n",
        "\n",
        "grade_int_rate_co_group = grade_int_rate[grade_int_rate[\"loan_status\"]==\"Charged Off\"].groupby(by = ['grade', 'int_rate_bin']).size().sort_values(ascending=False)\n",
        "grade_int_rate_all_group = alls.groupby(by = ['grade','int_rate_bin']).size().sort_values(ascending=False)\n",
        "\n",
        "grade_int_rate_grp = pd.concat([grade_int_rate_co_group, grade_int_rate_all_group], axis=1)\n",
        "\n",
        "#print (type(grade_int_rate_grp))\n",
        "grade_int_rate_grp.columns = ['co','all']\n",
        "\n",
        "\n",
        "grade_int_rate_grp[\"co_percent\"] = grade_int_rate_grp.co.apply(lambda x: round(x*100/grade_int_rate_grp.co.sum(),2))\n",
        "grade_int_rate_grp[\"all_percent\"]= grade_int_rate_grp['all'].apply(lambda x: round(x*100/grade_int_rate_grp['all'].sum(),2))\n",
        "grade_int_rate_grp[\"ratio\"] = grade_int_rate_grp[ [\"co\",\"all\"] ].apply(lambda x: round((x[0]/x[1])*100,0) , axis=1)\n",
        "\n",
        "grade_int_rate_grp = grade_int_rate_grp[grade_int_rate_grp['all']>150];\n",
        "\n",
        "grade_int_rate_grp = grade_int_rate_grp.reset_index(level=[0,1])\n",
        "\n",
        "\n",
        "grade_int_rate_grp[\"indexx\"] = grade_int_rate_grp[ [\"grade\",\"int_rate_bin\"] ].apply( (lambda x: str(x[0])+\"-\"+str(x[1])) , axis=1)\n",
        "\n",
        "grade_int_rate_grp = grade_int_rate_grp[['ratio','indexx']].sort_values(by='ratio',ascending=False).head(15)\n",
        "\n",
        "\n",
        "plt.figure(figsize=[10,8])\n",
        "\n",
        "\n",
        "sns.barplot(grade_int_rate_grp[\"indexx\"] , grade_int_rate_grp[\"ratio\"].values)\n",
        "\n",
        "plt.title(\"% of Loans Deafulted Across Various Combination of Loan grade and Rate of Interest\", fontsize=15)\n",
        "plt.xlabel(\"State & Rate of Interest\", fontsize=12)\n",
        "plt.ylabel(\"% of Loans Defaulted\", fontsize=12)\n",
        "plt.xticks(rotation=90)\n",
        "\n",
        "plt.show()\n",
        "\n",
        "\n",
        "\n",
        "\n",
        "#grade_int_rate_grp.sort_values(by='ratio',ascending=False).head(10)\n",
        "\n",
        "#grade_int_rateome end\n",
        "\n"
      ],
      "metadata": {
        "colab": {
          "base_uri": "https://localhost:8080/",
          "height": 559
        },
        "id": "jaYvwXhPyyLA",
        "outputId": "d18107fe-e439-4be0-f767-bc2ef6355ec4"
      },
      "execution_count": 232,
      "outputs": [
        {
          "output_type": "display_data",
          "data": {
            "image/png": "[encoded data removed]",
            "text/plain": [
              "<Figure size 720x576 with 1 Axes>"
            ]
          },
          "metadata": {
            "needs_background": "light"
          }
        }
      ]
    },
    {
      "cell_type": "markdown",
      "source": [
        "**Analysis of purpose and total account variables together**"
      ],
      "metadata": {
        "id": "kZF1TJN1D0Ru"
      }
    },
    {
      "cell_type": "code",
      "source": [
        "########################################\n",
        "\n",
        "# Bivariate purpose_total_acc start (total_accome)\n",
        "\n",
        "purpose_total_acc = alls[alls[\"loan_status\"]==\"Charged Off\" ];\n",
        "\n",
        "#purpose_total_acc['total_acc'] = purpose_total_acc['total_acc'].str.strip('%')\n",
        "#alls['total_acc'] = alls['total_acc'].str.strip('%')\n",
        "\n",
        "purpose_total_acc['total_acc'] = pd.to_numeric(purpose_total_acc['total_acc'], downcast=\"float\")\n",
        "alls['total_acc'] = pd.to_numeric(alls['total_acc'], downcast=\"float\")\n",
        "\n",
        "\n",
        "#purpose_total_acc['total_acc'] =purpose_total_acc['total_acc'].str.strip('< > % ')\n",
        "total_acc_bin = [x for x in range (0, 78, 4)]\n",
        "purpose_total_acc['total_acc_bin'] = pd.cut(purpose_total_acc['total_acc'], total_acc_bin)\n",
        "alls['total_acc_bin'] = pd.cut(alls['total_acc'], total_acc_bin)\n",
        "\n",
        "\n",
        "purpose_total_acc_co_group = purpose_total_acc[purpose_total_acc[\"loan_status\"]==\"Charged Off\"].groupby(by = ['purpose', 'total_acc_bin']).size().sort_values(ascending=False)\n",
        "purpose_total_acc_all_group = alls.groupby(by = ['purpose','total_acc_bin']).size().sort_values(ascending=False)\n",
        "\n",
        "purpose_total_acc_grp = pd.concat([purpose_total_acc_co_group, purpose_total_acc_all_group], axis=1)\n",
        "\n",
        "print (type(purpose_total_acc_grp))\n",
        "purpose_total_acc_grp.columns = ['co','all']\n",
        "\n",
        "\n",
        "purpose_total_acc_grp[\"co_percent\"] = purpose_total_acc_grp.co.apply(lambda x: round(x*100/purpose_total_acc_grp.co.sum(),2))\n",
        "purpose_total_acc_grp[\"all_percent\"]= purpose_total_acc_grp['all'].apply(lambda x: round(x*100/purpose_total_acc_grp['all'].sum(),2))\n",
        "purpose_total_acc_grp[\"ratio\"] = purpose_total_acc_grp[ [\"co\",\"all\"] ].apply(lambda x: round((x[0]/x[1])*100,0) , axis=1)\n",
        "\n",
        "purpose_total_acc_grp = purpose_total_acc_grp[purpose_total_acc_grp['all']>150];\n",
        "\n",
        "purpose_total_acc_grp = purpose_total_acc_grp.reset_index(level=[0,1])\n",
        "\n",
        "\n",
        "purpose_total_acc_grp[\"indexx\"] = purpose_total_acc_grp[ [\"purpose\",\"total_acc_bin\"] ].apply( (lambda x: str(x[0])+\"-\"+str(x[1])) , axis=1)\n",
        "\n",
        "purpose_total_acc_grp = purpose_total_acc_grp[['ratio','indexx']].sort_values(by='ratio',ascending=False).head(15)\n",
        "\n",
        "\n",
        "plt.figure(figsize=[10,8])\n",
        "sns.barplot(purpose_total_acc_grp[\"indexx\"] , purpose_total_acc_grp[\"ratio\"].values)\n",
        "\n",
        "plt.title(\"% of Loans Deafulted Across Various Combination of Loan purpose and Total account\",fontsize=15)\n",
        "plt.xlabel(\"Loan purpose and Total account\",fontsize=12)\n",
        "plt.ylabel(\"% of Loans Defaulted\",fontsize=12)\n",
        "plt.xticks(rotation=90)\n",
        "\n",
        "plt.show()\n",
        "\n",
        "\n",
        "\n",
        "#purpose_total_acc_grp.sort_values(by='ratio',ascending=False).head(10)\n",
        "\n",
        "#purpose_total_accome end\n",
        "\n",
        "##########################"
      ],
      "metadata": {
        "colab": {
          "base_uri": "https://localhost:8080/",
          "height": 668
        },
        "id": "YeN08fxlyyTZ",
        "outputId": "9b942cb4-02a3-4702-96a9-9d5302565255"
      },
      "execution_count": 233,
      "outputs": [
        {
          "output_type": "stream",
          "name": "stdout",
          "text": [
            "<class 'pandas.core.frame.DataFrame'>\n"
          ]
        },
        {
          "output_type": "display_data",
          "data": {
            "image/png": "[encoded data removed]",
            "text/plain": [
              "<Figure size 720x576 with 1 Axes>"
            ]
          },
          "metadata": {
            "needs_background": "light"
          }
        }
      ]
    },
    {
      "cell_type": "code",
      "source": [
        ""
      ],
      "metadata": {
        "id": "G5Olfhsfyyaq"
      },
      "execution_count": 233,
      "outputs": []
    },
    {
      "cell_type": "code",
      "source": [
        ""
      ],
      "metadata": {
        "id": "sccGkRlXyyr3"
      },
      "execution_count": 233,
      "outputs": []
    }
  ]
}